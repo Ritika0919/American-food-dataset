{
  "nbformat": 4,
  "nbformat_minor": 0,
  "metadata": {
    "colab": {
      "name": "BeerDataScienceProject.ipynb",
      "provenance": [],
      "mount_file_id": "1a2iweALqxaMDA09t2hCIXU1bIvhQbI-k",
      "authorship_tag": "ABX9TyNbVhpJUeX1Rpe8aojL4IzB",
      "include_colab_link": true
    },
    "kernelspec": {
      "name": "python3",
      "display_name": "Python 3"
    },
    "language_info": {
      "name": "python"
    }
  },
  "cells": [
    {
      "cell_type": "markdown",
      "metadata": {
        "id": "view-in-github",
        "colab_type": "text"
      },
      "source": [
        "<a href=\"https://colab.research.google.com/github/Ritika0919/American-food-dataset/blob/main/BeerDataScienceProject.ipynb\" target=\"_parent\"><img src=\"https://colab.research.google.com/assets/colab-badge.svg\" alt=\"Open In Colab\"/></a>"
      ]
    },
    {
      "cell_type": "markdown",
      "source": [
        "## Import libraries \n"
      ],
      "metadata": {
        "id": "_C2DxwPoZ0HK"
      }
    },
    {
      "cell_type": "code",
      "execution_count": 1,
      "metadata": {
        "id": "TFZ2oS3bO-BV"
      },
      "outputs": [],
      "source": [
        "#import data visualization and manipulation libraries\n",
        "import pandas as pd\n",
        "import numpy as np\n",
        "import matplotlib.pyplot as plt\n",
        "import seaborn as sns\n",
        "from datetime import datetime\n",
        "import re"
      ]
    },
    {
      "cell_type": "markdown",
      "source": [
        "## Load Excel file"
      ],
      "metadata": {
        "id": "nuYa439fVNYj"
      }
    },
    {
      "cell_type": "code",
      "source": [
        "#Provide Google authentication to import file from Google Drive\n",
        "\n",
        "!pip install -U -q PyDrive\n",
        " \n",
        "from pydrive.auth import GoogleAuth\n",
        "from pydrive.drive import GoogleDrive\n",
        "from google.colab import auth\n",
        "from oauth2client.client import GoogleCredentials\n",
        " \n",
        " \n",
        "#Create and authenticate the PyDrive client\n",
        "auth.authenticate_user()\n",
        "gauth = GoogleAuth()\n",
        "gauth.credentials = GoogleCredentials.get_application_default()\n",
        "drive = GoogleDrive(gauth)"
      ],
      "metadata": {
        "id": "E_DhUxmKYhxr"
      },
      "execution_count": 2,
      "outputs": []
    },
    {
      "cell_type": "code",
      "source": [
        "#import file from Google drive\n",
        "\n",
        "link = 'https://drive.google.com/file/d/1E1JoajwM2FZY4wPhKm-uUThbfkqGzLZW/view'\n",
        " \n",
        "# to get the id part of the file\n",
        "id = link.split(\"/\")[-2]\n",
        " \n",
        "downloaded = drive.CreateFile({'id':id})\n",
        "downloaded.GetContentFile('BeerDataScienceProject.csv') \n",
        " "
      ],
      "metadata": {
        "id": "mc-qrNreYo5Q"
      },
      "execution_count": 3,
      "outputs": []
    },
    {
      "cell_type": "code",
      "source": [
        "#Load dataset as an excel file\n",
        "\n",
        "df = pd.read_csv('BeerDataScienceProject.csv',encoding='latin-1')\n"
      ],
      "metadata": {
        "id": "O36Eun5yZcDT"
      },
      "execution_count": 4,
      "outputs": []
    },
    {
      "cell_type": "markdown",
      "source": [
        "## Learning about the dataset\n"
      ],
      "metadata": {
        "id": "2yprRMwjWTfW"
      }
    },
    {
      "cell_type": "code",
      "source": [
        "df.head(5)"
      ],
      "metadata": {
        "colab": {
          "base_uri": "https://localhost:8080/",
          "height": 354
        },
        "id": "-ryXizekU5sL",
        "outputId": "750dc05e-68f2-4878-e483-26d45463778b"
      },
      "execution_count": 5,
      "outputs": [
        {
          "output_type": "execute_result",
          "data": {
            "text/plain": [
              "   beer_ABV  beer_beerId  beer_brewerId               beer_name  \\\n",
              "0       5.0        47986          10325            Sausa Weizen   \n",
              "1       6.2        48213          10325                Red Moon   \n",
              "2       6.5        48215          10325  Black Horse Black Beer   \n",
              "3       5.0        47969          10325              Sausa Pils   \n",
              "4       7.7        64883           1075           Cauldron DIPA   \n",
              "\n",
              "                       beer_style  review_appearance  review_palette  \\\n",
              "0                      Hefeweizen                2.5             2.0   \n",
              "1              English Strong Ale                3.0             2.5   \n",
              "2          Foreign / Export Stout                3.0             2.5   \n",
              "3                 German Pilsener                3.5             3.0   \n",
              "4  American Double / Imperial IPA                4.0             4.5   \n",
              "\n",
              "   review_overall  review_taste review_profileName  review_aroma  \\\n",
              "0             1.5           1.5            stcules           1.5   \n",
              "1             3.0           3.0            stcules           3.0   \n",
              "2             3.0           3.0            stcules           3.0   \n",
              "3             3.0           2.5            stcules           3.0   \n",
              "4             4.0           4.0     johnmichaelsen           4.5   \n",
              "\n",
              "                                         review_text  review_time  \n",
              "0  A lot of foam. But a lot. In the smell some ba...   1234817823  \n",
              "1  Dark red color, light beige foam, average. In ...   1235915097  \n",
              "2  Almost totally black. Beige foam, quite compac...   1235916604  \n",
              "3  Golden yellow color. White, compact foam, quit...   1234725145  \n",
              "4  According to the website, the style for the Ca...   1293735206  "
            ],
            "text/html": [
              "\n",
              "  <div id=\"df-7e3118fe-fcb8-4aa5-93cc-53c3fe79bc9d\">\n",
              "    <div class=\"colab-df-container\">\n",
              "      <div>\n",
              "<style scoped>\n",
              "    .dataframe tbody tr th:only-of-type {\n",
              "        vertical-align: middle;\n",
              "    }\n",
              "\n",
              "    .dataframe tbody tr th {\n",
              "        vertical-align: top;\n",
              "    }\n",
              "\n",
              "    .dataframe thead th {\n",
              "        text-align: right;\n",
              "    }\n",
              "</style>\n",
              "<table border=\"1\" class=\"dataframe\">\n",
              "  <thead>\n",
              "    <tr style=\"text-align: right;\">\n",
              "      <th></th>\n",
              "      <th>beer_ABV</th>\n",
              "      <th>beer_beerId</th>\n",
              "      <th>beer_brewerId</th>\n",
              "      <th>beer_name</th>\n",
              "      <th>beer_style</th>\n",
              "      <th>review_appearance</th>\n",
              "      <th>review_palette</th>\n",
              "      <th>review_overall</th>\n",
              "      <th>review_taste</th>\n",
              "      <th>review_profileName</th>\n",
              "      <th>review_aroma</th>\n",
              "      <th>review_text</th>\n",
              "      <th>review_time</th>\n",
              "    </tr>\n",
              "  </thead>\n",
              "  <tbody>\n",
              "    <tr>\n",
              "      <th>0</th>\n",
              "      <td>5.0</td>\n",
              "      <td>47986</td>\n",
              "      <td>10325</td>\n",
              "      <td>Sausa Weizen</td>\n",
              "      <td>Hefeweizen</td>\n",
              "      <td>2.5</td>\n",
              "      <td>2.0</td>\n",
              "      <td>1.5</td>\n",
              "      <td>1.5</td>\n",
              "      <td>stcules</td>\n",
              "      <td>1.5</td>\n",
              "      <td>A lot of foam. But a lot. In the smell some ba...</td>\n",
              "      <td>1234817823</td>\n",
              "    </tr>\n",
              "    <tr>\n",
              "      <th>1</th>\n",
              "      <td>6.2</td>\n",
              "      <td>48213</td>\n",
              "      <td>10325</td>\n",
              "      <td>Red Moon</td>\n",
              "      <td>English Strong Ale</td>\n",
              "      <td>3.0</td>\n",
              "      <td>2.5</td>\n",
              "      <td>3.0</td>\n",
              "      <td>3.0</td>\n",
              "      <td>stcules</td>\n",
              "      <td>3.0</td>\n",
              "      <td>Dark red color, light beige foam, average. In ...</td>\n",
              "      <td>1235915097</td>\n",
              "    </tr>\n",
              "    <tr>\n",
              "      <th>2</th>\n",
              "      <td>6.5</td>\n",
              "      <td>48215</td>\n",
              "      <td>10325</td>\n",
              "      <td>Black Horse Black Beer</td>\n",
              "      <td>Foreign / Export Stout</td>\n",
              "      <td>3.0</td>\n",
              "      <td>2.5</td>\n",
              "      <td>3.0</td>\n",
              "      <td>3.0</td>\n",
              "      <td>stcules</td>\n",
              "      <td>3.0</td>\n",
              "      <td>Almost totally black. Beige foam, quite compac...</td>\n",
              "      <td>1235916604</td>\n",
              "    </tr>\n",
              "    <tr>\n",
              "      <th>3</th>\n",
              "      <td>5.0</td>\n",
              "      <td>47969</td>\n",
              "      <td>10325</td>\n",
              "      <td>Sausa Pils</td>\n",
              "      <td>German Pilsener</td>\n",
              "      <td>3.5</td>\n",
              "      <td>3.0</td>\n",
              "      <td>3.0</td>\n",
              "      <td>2.5</td>\n",
              "      <td>stcules</td>\n",
              "      <td>3.0</td>\n",
              "      <td>Golden yellow color. White, compact foam, quit...</td>\n",
              "      <td>1234725145</td>\n",
              "    </tr>\n",
              "    <tr>\n",
              "      <th>4</th>\n",
              "      <td>7.7</td>\n",
              "      <td>64883</td>\n",
              "      <td>1075</td>\n",
              "      <td>Cauldron DIPA</td>\n",
              "      <td>American Double / Imperial IPA</td>\n",
              "      <td>4.0</td>\n",
              "      <td>4.5</td>\n",
              "      <td>4.0</td>\n",
              "      <td>4.0</td>\n",
              "      <td>johnmichaelsen</td>\n",
              "      <td>4.5</td>\n",
              "      <td>According to the website, the style for the Ca...</td>\n",
              "      <td>1293735206</td>\n",
              "    </tr>\n",
              "  </tbody>\n",
              "</table>\n",
              "</div>\n",
              "      <button class=\"colab-df-convert\" onclick=\"convertToInteractive('df-7e3118fe-fcb8-4aa5-93cc-53c3fe79bc9d')\"\n",
              "              title=\"Convert this dataframe to an interactive table.\"\n",
              "              style=\"display:none;\">\n",
              "        \n",
              "  <svg xmlns=\"http://www.w3.org/2000/svg\" height=\"24px\"viewBox=\"0 0 24 24\"\n",
              "       width=\"24px\">\n",
              "    <path d=\"M0 0h24v24H0V0z\" fill=\"none\"/>\n",
              "    <path d=\"M18.56 5.44l.94 2.06.94-2.06 2.06-.94-2.06-.94-.94-2.06-.94 2.06-2.06.94zm-11 1L8.5 8.5l.94-2.06 2.06-.94-2.06-.94L8.5 2.5l-.94 2.06-2.06.94zm10 10l.94 2.06.94-2.06 2.06-.94-2.06-.94-.94-2.06-.94 2.06-2.06.94z\"/><path d=\"M17.41 7.96l-1.37-1.37c-.4-.4-.92-.59-1.43-.59-.52 0-1.04.2-1.43.59L10.3 9.45l-7.72 7.72c-.78.78-.78 2.05 0 2.83L4 21.41c.39.39.9.59 1.41.59.51 0 1.02-.2 1.41-.59l7.78-7.78 2.81-2.81c.8-.78.8-2.07 0-2.86zM5.41 20L4 18.59l7.72-7.72 1.47 1.35L5.41 20z\"/>\n",
              "  </svg>\n",
              "      </button>\n",
              "      \n",
              "  <style>\n",
              "    .colab-df-container {\n",
              "      display:flex;\n",
              "      flex-wrap:wrap;\n",
              "      gap: 12px;\n",
              "    }\n",
              "\n",
              "    .colab-df-convert {\n",
              "      background-color: #E8F0FE;\n",
              "      border: none;\n",
              "      border-radius: 50%;\n",
              "      cursor: pointer;\n",
              "      display: none;\n",
              "      fill: #1967D2;\n",
              "      height: 32px;\n",
              "      padding: 0 0 0 0;\n",
              "      width: 32px;\n",
              "    }\n",
              "\n",
              "    .colab-df-convert:hover {\n",
              "      background-color: #E2EBFA;\n",
              "      box-shadow: 0px 1px 2px rgba(60, 64, 67, 0.3), 0px 1px 3px 1px rgba(60, 64, 67, 0.15);\n",
              "      fill: #174EA6;\n",
              "    }\n",
              "\n",
              "    [theme=dark] .colab-df-convert {\n",
              "      background-color: #3B4455;\n",
              "      fill: #D2E3FC;\n",
              "    }\n",
              "\n",
              "    [theme=dark] .colab-df-convert:hover {\n",
              "      background-color: #434B5C;\n",
              "      box-shadow: 0px 1px 3px 1px rgba(0, 0, 0, 0.15);\n",
              "      filter: drop-shadow(0px 1px 2px rgba(0, 0, 0, 0.3));\n",
              "      fill: #FFFFFF;\n",
              "    }\n",
              "  </style>\n",
              "\n",
              "      <script>\n",
              "        const buttonEl =\n",
              "          document.querySelector('#df-7e3118fe-fcb8-4aa5-93cc-53c3fe79bc9d button.colab-df-convert');\n",
              "        buttonEl.style.display =\n",
              "          google.colab.kernel.accessAllowed ? 'block' : 'none';\n",
              "\n",
              "        async function convertToInteractive(key) {\n",
              "          const element = document.querySelector('#df-7e3118fe-fcb8-4aa5-93cc-53c3fe79bc9d');\n",
              "          const dataTable =\n",
              "            await google.colab.kernel.invokeFunction('convertToInteractive',\n",
              "                                                     [key], {});\n",
              "          if (!dataTable) return;\n",
              "\n",
              "          const docLinkHtml = 'Like what you see? Visit the ' +\n",
              "            '<a target=\"_blank\" href=https://colab.research.google.com/notebooks/data_table.ipynb>data table notebook</a>'\n",
              "            + ' to learn more about interactive tables.';\n",
              "          element.innerHTML = '';\n",
              "          dataTable['output_type'] = 'display_data';\n",
              "          await google.colab.output.renderOutput(dataTable, element);\n",
              "          const docLink = document.createElement('div');\n",
              "          docLink.innerHTML = docLinkHtml;\n",
              "          element.appendChild(docLink);\n",
              "        }\n",
              "      </script>\n",
              "    </div>\n",
              "  </div>\n",
              "  "
            ]
          },
          "metadata": {},
          "execution_count": 5
        }
      ]
    },
    {
      "cell_type": "code",
      "source": [
        "df.tail(5)"
      ],
      "metadata": {
        "colab": {
          "base_uri": "https://localhost:8080/",
          "height": 372
        },
        "id": "JXiC39zxQoKM",
        "outputId": "29d94c67-7b69-404c-f2fd-bf750aa28210"
      },
      "execution_count": 6,
      "outputs": [
        {
          "output_type": "execute_result",
          "data": {
            "text/plain": [
              "        beer_ABV  beer_beerId  beer_brewerId          beer_name  \\\n",
              "528865       NaN         4032           3340  Dinkel Acker Dark   \n",
              "528866       NaN         4032           3340  Dinkel Acker Dark   \n",
              "528867       NaN         4032           3340  Dinkel Acker Dark   \n",
              "528868       NaN         4032           3340  Dinkel Acker Dark   \n",
              "528869       NaN         4032           3340  Dinkel Acker Dark   \n",
              "\n",
              "                 beer_style  review_appearance  review_palette  \\\n",
              "528865  Munich Dunkel Lager                4.0             3.0   \n",
              "528866  Munich Dunkel Lager                4.0             3.5   \n",
              "528867  Munich Dunkel Lager                4.0             4.0   \n",
              "528868  Munich Dunkel Lager                4.0             3.0   \n",
              "528869  Munich Dunkel Lager                4.0             4.0   \n",
              "\n",
              "        review_overall  review_taste review_profileName  review_aroma  \\\n",
              "528865             4.0           3.5    orangemoustache           4.0   \n",
              "528866             3.0           3.0        MisterStout           3.0   \n",
              "528867             4.5           4.0            meechum           4.5   \n",
              "528868             4.0           4.0          Dodo2step           4.5   \n",
              "528869             4.0           4.0         jenbys2001           4.0   \n",
              "\n",
              "                                              review_text  review_time  \n",
              "528865  A-pours a reddish amber that looks very nice,l...   1205212721  \n",
              "528866  I don't really have anything special to say ab...   1203490783  \n",
              "528867  Had this on tap at Vreny's Beirgarten A - Came...   1201320897  \n",
              "528868  Purchased at Market Cross Pub in carlisle, PA....   1201215290  \n",
              "528869  I ordered a mug of this beer at Schnitzelhaus,...   1200336367  "
            ],
            "text/html": [
              "\n",
              "  <div id=\"df-a1067719-fb36-48c7-9f04-1dc42dc123cf\">\n",
              "    <div class=\"colab-df-container\">\n",
              "      <div>\n",
              "<style scoped>\n",
              "    .dataframe tbody tr th:only-of-type {\n",
              "        vertical-align: middle;\n",
              "    }\n",
              "\n",
              "    .dataframe tbody tr th {\n",
              "        vertical-align: top;\n",
              "    }\n",
              "\n",
              "    .dataframe thead th {\n",
              "        text-align: right;\n",
              "    }\n",
              "</style>\n",
              "<table border=\"1\" class=\"dataframe\">\n",
              "  <thead>\n",
              "    <tr style=\"text-align: right;\">\n",
              "      <th></th>\n",
              "      <th>beer_ABV</th>\n",
              "      <th>beer_beerId</th>\n",
              "      <th>beer_brewerId</th>\n",
              "      <th>beer_name</th>\n",
              "      <th>beer_style</th>\n",
              "      <th>review_appearance</th>\n",
              "      <th>review_palette</th>\n",
              "      <th>review_overall</th>\n",
              "      <th>review_taste</th>\n",
              "      <th>review_profileName</th>\n",
              "      <th>review_aroma</th>\n",
              "      <th>review_text</th>\n",
              "      <th>review_time</th>\n",
              "    </tr>\n",
              "  </thead>\n",
              "  <tbody>\n",
              "    <tr>\n",
              "      <th>528865</th>\n",
              "      <td>NaN</td>\n",
              "      <td>4032</td>\n",
              "      <td>3340</td>\n",
              "      <td>Dinkel Acker Dark</td>\n",
              "      <td>Munich Dunkel Lager</td>\n",
              "      <td>4.0</td>\n",
              "      <td>3.0</td>\n",
              "      <td>4.0</td>\n",
              "      <td>3.5</td>\n",
              "      <td>orangemoustache</td>\n",
              "      <td>4.0</td>\n",
              "      <td>A-pours a reddish amber that looks very nice,l...</td>\n",
              "      <td>1205212721</td>\n",
              "    </tr>\n",
              "    <tr>\n",
              "      <th>528866</th>\n",
              "      <td>NaN</td>\n",
              "      <td>4032</td>\n",
              "      <td>3340</td>\n",
              "      <td>Dinkel Acker Dark</td>\n",
              "      <td>Munich Dunkel Lager</td>\n",
              "      <td>4.0</td>\n",
              "      <td>3.5</td>\n",
              "      <td>3.0</td>\n",
              "      <td>3.0</td>\n",
              "      <td>MisterStout</td>\n",
              "      <td>3.0</td>\n",
              "      <td>I don't really have anything special to say ab...</td>\n",
              "      <td>1203490783</td>\n",
              "    </tr>\n",
              "    <tr>\n",
              "      <th>528867</th>\n",
              "      <td>NaN</td>\n",
              "      <td>4032</td>\n",
              "      <td>3340</td>\n",
              "      <td>Dinkel Acker Dark</td>\n",
              "      <td>Munich Dunkel Lager</td>\n",
              "      <td>4.0</td>\n",
              "      <td>4.0</td>\n",
              "      <td>4.5</td>\n",
              "      <td>4.0</td>\n",
              "      <td>meechum</td>\n",
              "      <td>4.5</td>\n",
              "      <td>Had this on tap at Vreny's Beirgarten A - Came...</td>\n",
              "      <td>1201320897</td>\n",
              "    </tr>\n",
              "    <tr>\n",
              "      <th>528868</th>\n",
              "      <td>NaN</td>\n",
              "      <td>4032</td>\n",
              "      <td>3340</td>\n",
              "      <td>Dinkel Acker Dark</td>\n",
              "      <td>Munich Dunkel Lager</td>\n",
              "      <td>4.0</td>\n",
              "      <td>3.0</td>\n",
              "      <td>4.0</td>\n",
              "      <td>4.0</td>\n",
              "      <td>Dodo2step</td>\n",
              "      <td>4.5</td>\n",
              "      <td>Purchased at Market Cross Pub in carlisle, PA....</td>\n",
              "      <td>1201215290</td>\n",
              "    </tr>\n",
              "    <tr>\n",
              "      <th>528869</th>\n",
              "      <td>NaN</td>\n",
              "      <td>4032</td>\n",
              "      <td>3340</td>\n",
              "      <td>Dinkel Acker Dark</td>\n",
              "      <td>Munich Dunkel Lager</td>\n",
              "      <td>4.0</td>\n",
              "      <td>4.0</td>\n",
              "      <td>4.0</td>\n",
              "      <td>4.0</td>\n",
              "      <td>jenbys2001</td>\n",
              "      <td>4.0</td>\n",
              "      <td>I ordered a mug of this beer at Schnitzelhaus,...</td>\n",
              "      <td>1200336367</td>\n",
              "    </tr>\n",
              "  </tbody>\n",
              "</table>\n",
              "</div>\n",
              "      <button class=\"colab-df-convert\" onclick=\"convertToInteractive('df-a1067719-fb36-48c7-9f04-1dc42dc123cf')\"\n",
              "              title=\"Convert this dataframe to an interactive table.\"\n",
              "              style=\"display:none;\">\n",
              "        \n",
              "  <svg xmlns=\"http://www.w3.org/2000/svg\" height=\"24px\"viewBox=\"0 0 24 24\"\n",
              "       width=\"24px\">\n",
              "    <path d=\"M0 0h24v24H0V0z\" fill=\"none\"/>\n",
              "    <path d=\"M18.56 5.44l.94 2.06.94-2.06 2.06-.94-2.06-.94-.94-2.06-.94 2.06-2.06.94zm-11 1L8.5 8.5l.94-2.06 2.06-.94-2.06-.94L8.5 2.5l-.94 2.06-2.06.94zm10 10l.94 2.06.94-2.06 2.06-.94-2.06-.94-.94-2.06-.94 2.06-2.06.94z\"/><path d=\"M17.41 7.96l-1.37-1.37c-.4-.4-.92-.59-1.43-.59-.52 0-1.04.2-1.43.59L10.3 9.45l-7.72 7.72c-.78.78-.78 2.05 0 2.83L4 21.41c.39.39.9.59 1.41.59.51 0 1.02-.2 1.41-.59l7.78-7.78 2.81-2.81c.8-.78.8-2.07 0-2.86zM5.41 20L4 18.59l7.72-7.72 1.47 1.35L5.41 20z\"/>\n",
              "  </svg>\n",
              "      </button>\n",
              "      \n",
              "  <style>\n",
              "    .colab-df-container {\n",
              "      display:flex;\n",
              "      flex-wrap:wrap;\n",
              "      gap: 12px;\n",
              "    }\n",
              "\n",
              "    .colab-df-convert {\n",
              "      background-color: #E8F0FE;\n",
              "      border: none;\n",
              "      border-radius: 50%;\n",
              "      cursor: pointer;\n",
              "      display: none;\n",
              "      fill: #1967D2;\n",
              "      height: 32px;\n",
              "      padding: 0 0 0 0;\n",
              "      width: 32px;\n",
              "    }\n",
              "\n",
              "    .colab-df-convert:hover {\n",
              "      background-color: #E2EBFA;\n",
              "      box-shadow: 0px 1px 2px rgba(60, 64, 67, 0.3), 0px 1px 3px 1px rgba(60, 64, 67, 0.15);\n",
              "      fill: #174EA6;\n",
              "    }\n",
              "\n",
              "    [theme=dark] .colab-df-convert {\n",
              "      background-color: #3B4455;\n",
              "      fill: #D2E3FC;\n",
              "    }\n",
              "\n",
              "    [theme=dark] .colab-df-convert:hover {\n",
              "      background-color: #434B5C;\n",
              "      box-shadow: 0px 1px 3px 1px rgba(0, 0, 0, 0.15);\n",
              "      filter: drop-shadow(0px 1px 2px rgba(0, 0, 0, 0.3));\n",
              "      fill: #FFFFFF;\n",
              "    }\n",
              "  </style>\n",
              "\n",
              "      <script>\n",
              "        const buttonEl =\n",
              "          document.querySelector('#df-a1067719-fb36-48c7-9f04-1dc42dc123cf button.colab-df-convert');\n",
              "        buttonEl.style.display =\n",
              "          google.colab.kernel.accessAllowed ? 'block' : 'none';\n",
              "\n",
              "        async function convertToInteractive(key) {\n",
              "          const element = document.querySelector('#df-a1067719-fb36-48c7-9f04-1dc42dc123cf');\n",
              "          const dataTable =\n",
              "            await google.colab.kernel.invokeFunction('convertToInteractive',\n",
              "                                                     [key], {});\n",
              "          if (!dataTable) return;\n",
              "\n",
              "          const docLinkHtml = 'Like what you see? Visit the ' +\n",
              "            '<a target=\"_blank\" href=https://colab.research.google.com/notebooks/data_table.ipynb>data table notebook</a>'\n",
              "            + ' to learn more about interactive tables.';\n",
              "          element.innerHTML = '';\n",
              "          dataTable['output_type'] = 'display_data';\n",
              "          await google.colab.output.renderOutput(dataTable, element);\n",
              "          const docLink = document.createElement('div');\n",
              "          docLink.innerHTML = docLinkHtml;\n",
              "          element.appendChild(docLink);\n",
              "        }\n",
              "      </script>\n",
              "    </div>\n",
              "  </div>\n",
              "  "
            ]
          },
          "metadata": {},
          "execution_count": 6
        }
      ]
    },
    {
      "cell_type": "code",
      "source": [
        "#resetting index\n",
        "df = df.reset_index()"
      ],
      "metadata": {
        "id": "R6vYioz_eT7m"
      },
      "execution_count": 7,
      "outputs": []
    },
    {
      "cell_type": "code",
      "source": [
        "#Data types of each column\n",
        "df.info()"
      ],
      "metadata": {
        "colab": {
          "base_uri": "https://localhost:8080/"
        },
        "id": "Cs8LsS7YWHTm",
        "outputId": "48b08fa1-fce7-4f64-9ea3-26e600a6ed93"
      },
      "execution_count": 8,
      "outputs": [
        {
          "output_type": "stream",
          "name": "stdout",
          "text": [
            "<class 'pandas.core.frame.DataFrame'>\n",
            "RangeIndex: 528870 entries, 0 to 528869\n",
            "Data columns (total 14 columns):\n",
            " #   Column              Non-Null Count   Dtype  \n",
            "---  ------              --------------   -----  \n",
            " 0   index               528870 non-null  int64  \n",
            " 1   beer_ABV            508590 non-null  float64\n",
            " 2   beer_beerId         528870 non-null  int64  \n",
            " 3   beer_brewerId       528870 non-null  int64  \n",
            " 4   beer_name           528870 non-null  object \n",
            " 5   beer_style          528870 non-null  object \n",
            " 6   review_appearance   528870 non-null  float64\n",
            " 7   review_palette      528870 non-null  float64\n",
            " 8   review_overall      528870 non-null  float64\n",
            " 9   review_taste        528870 non-null  float64\n",
            " 10  review_profileName  528755 non-null  object \n",
            " 11  review_aroma        528870 non-null  float64\n",
            " 12  review_text         528751 non-null  object \n",
            " 13  review_time         528870 non-null  int64  \n",
            "dtypes: float64(6), int64(4), object(4)\n",
            "memory usage: 56.5+ MB\n"
          ]
        }
      ]
    },
    {
      "cell_type": "markdown",
      "source": [
        "As expected, this ratings dataset has most of its values in numerical form (int or float). The review_time column needs to be reset to a datetime format."
      ],
      "metadata": {
        "id": "ZKi1rkOCWhFL"
      }
    },
    {
      "cell_type": "code",
      "source": [
        "#Initial size of dataset\n",
        "df.shape"
      ],
      "metadata": {
        "colab": {
          "base_uri": "https://localhost:8080/"
        },
        "id": "upJsaJ-1XBVj",
        "outputId": "f9b4ab3f-5b1c-415f-a75b-e7bb5cc3c954"
      },
      "execution_count": 9,
      "outputs": [
        {
          "output_type": "execute_result",
          "data": {
            "text/plain": [
              "(528870, 14)"
            ]
          },
          "metadata": {},
          "execution_count": 9
        }
      ]
    },
    {
      "cell_type": "code",
      "source": [
        "# total number of missing values per column\n",
        "df.isnull().sum()"
      ],
      "metadata": {
        "colab": {
          "base_uri": "https://localhost:8080/"
        },
        "id": "tTjzSy8TRKI8",
        "outputId": "248b477b-98dd-4bbc-dc62-e14878bab750"
      },
      "execution_count": 10,
      "outputs": [
        {
          "output_type": "execute_result",
          "data": {
            "text/plain": [
              "index                     0\n",
              "beer_ABV              20280\n",
              "beer_beerId               0\n",
              "beer_brewerId             0\n",
              "beer_name                 0\n",
              "beer_style                0\n",
              "review_appearance         0\n",
              "review_palette            0\n",
              "review_overall            0\n",
              "review_taste              0\n",
              "review_profileName      115\n",
              "review_aroma              0\n",
              "review_text             119\n",
              "review_time               0\n",
              "dtype: int64"
            ]
          },
          "metadata": {},
          "execution_count": 10
        }
      ]
    },
    {
      "cell_type": "markdown",
      "source": [
        "This is a good dataset. Only 3 of the 13 columns have missing values. Of those 3 columns, 2 have a small percentage of missing values that can be dropped, without significantly affecting the quality of the dataset."
      ],
      "metadata": {
        "id": "5-cmnsGaXS6i"
      }
    },
    {
      "cell_type": "markdown",
      "source": [
        "## Cleaning the dataset"
      ],
      "metadata": {
        "id": "6o7OBfTxdb7K"
      }
    },
    {
      "cell_type": "code",
      "source": [
        "#dropping the missing values\n",
        "df = df.dropna()"
      ],
      "metadata": {
        "id": "XQhCAL86Q3nr"
      },
      "execution_count": 11,
      "outputs": []
    },
    {
      "cell_type": "markdown",
      "source": [
        "20,514 missing values have been dropped"
      ],
      "metadata": {
        "id": "J5ektthbYacz"
      }
    },
    {
      "cell_type": "code",
      "source": [
        "#Checking for duplicate values in the dataframe\n",
        "duplicate_vals = df.duplicated()\n",
        "duplicate_vals"
      ],
      "metadata": {
        "colab": {
          "base_uri": "https://localhost:8080/"
        },
        "id": "jji6Vmtcbjnh",
        "outputId": "c078a9c9-7de5-4881-e155-c18b992e87d6"
      },
      "execution_count": 12,
      "outputs": [
        {
          "output_type": "execute_result",
          "data": {
            "text/plain": [
              "0         False\n",
              "1         False\n",
              "2         False\n",
              "3         False\n",
              "4         False\n",
              "          ...  \n",
              "528792    False\n",
              "528793    False\n",
              "528794    False\n",
              "528795    False\n",
              "528796    False\n",
              "Length: 508358, dtype: bool"
            ]
          },
          "metadata": {},
          "execution_count": 12
        }
      ]
    },
    {
      "cell_type": "code",
      "source": [
        "# Dropping the beers with 0 rating since the scale goes from 1 to 5\n",
        "df = df[(df['review_overall'] >= 1)]"
      ],
      "metadata": {
        "id": "EgBsnTQoaMvf"
      },
      "execution_count": 13,
      "outputs": []
    },
    {
      "cell_type": "code",
      "source": [
        "#arrange the review scores in descending order\n",
        "df = df.sort_values('review_overall', ascending=False)\n",
        "df"
      ],
      "metadata": {
        "colab": {
          "base_uri": "https://localhost:8080/",
          "height": 1000
        },
        "id": "gMesSWSzaCn4",
        "outputId": "e0c11c03-174d-492a-806f-0262951d6d7d"
      },
      "execution_count": 14,
      "outputs": [
        {
          "output_type": "execute_result",
          "data": {
            "text/plain": [
              "         index  beer_ABV  beer_beerId  beer_brewerId  \\\n",
              "152866  152866       9.5        28577           3818   \n",
              "370806  370806      10.0        28385             22   \n",
              "412412  412412       6.0        11547             73   \n",
              "79616    79616       5.6          279            140   \n",
              "46458    46458       4.4          429              1   \n",
              "...        ...       ...          ...            ...   \n",
              "378970  378970       5.0         8817           1435   \n",
              "255224  255224       5.0        10331           1141   \n",
              "255309  255309       5.0        10331           1141   \n",
              "255318  255318       5.0        10331           1141   \n",
              "346708  346708       5.5         6477            754   \n",
              "\n",
              "                                      beer_name  \\\n",
              "152866      Unearthly (Imperial India Pale Ale)   \n",
              "370806                              Unibroue 15   \n",
              "412412             Great Lakes Independence Ale   \n",
              "79616                      Sierra Nevada Porter   \n",
              "46458                           Pilsner Urquell   \n",
              "...                                         ...   \n",
              "378970       Tuborg Premium Lager (Gold / Guld)   \n",
              "255224  Route Des Épices (Ale Rousse Au Poivre)   \n",
              "255309  Route Des Épices (Ale Rousse Au Poivre)   \n",
              "255318  Route Des Épices (Ale Rousse Au Poivre)   \n",
              "346708                        Mad Anthony's APA   \n",
              "\n",
              "                            beer_style  review_appearance  review_palette  \\\n",
              "152866  American Double / Imperial IPA                4.5             4.0   \n",
              "370806         Belgian Strong Pale Ale                4.0             4.0   \n",
              "412412        American Amber / Red Ale                4.0             4.0   \n",
              "79616                  American Porter                4.5             4.5   \n",
              "46458                   Czech Pilsener                4.5             4.0   \n",
              "...                                ...                ...             ...   \n",
              "378970                 Euro Pale Lager                1.0             1.0   \n",
              "255224                        Rye Beer                4.0             3.0   \n",
              "255309                        Rye Beer                3.0             2.0   \n",
              "255318                        Rye Beer                3.5             3.5   \n",
              "346708         American Pale Ale (APA)                4.0             3.0   \n",
              "\n",
              "        review_overall  review_taste review_profileName  review_aroma  \\\n",
              "152866             5.0           4.5          ken2cart1           4.0   \n",
              "370806             5.0           4.5             Gehrig           4.5   \n",
              "412412             5.0           4.0            sliverX           5.0   \n",
              "79616              5.0           4.5             pbrian           5.0   \n",
              "46458              5.0           4.5      schusterbauer           4.5   \n",
              "...                ...           ...                ...           ...   \n",
              "378970             1.0           1.0         EagleTalon           1.0   \n",
              "255224             1.0           3.0             cratez           2.0   \n",
              "255309             1.0           3.0         KarlHungus           2.0   \n",
              "255318             1.0           2.5   MrRetardedMonkey           1.0   \n",
              "346708             1.0           3.5    brewdlyhooked13           1.5   \n",
              "\n",
              "                                              review_text  review_time  \n",
              "152866  22 oz bomber served in my 8 ounce flute glass ...   1243562965  \n",
              "370806  I grabbed this at the terrific Neil St. Piccad...   1206337414  \n",
              "412412  Poured from a growler a clear copper brew with...   1278717598  \n",
              "79616   I love this beer. It has that signature Sierra...   1014202494  \n",
              "46458   i seem to remember not being so impressed by t...   1174915272  \n",
              "...                                                   ...          ...  \n",
              "378970  Pours to wimpy yellow-gold color and thin but ...   1079755752  \n",
              "255224  341ml bottle from the Richmond & Fanshawe LCBO...   1283401794  \n",
              "255309  This beer pours a hazy amber color. The head i...   1248634334  \n",
              "255318  I've pretty much loved or at least enjoyed eve...   1247427466  \n",
              "346708  Appearance - orange copper pour, a nice creamy...   1217124294  \n",
              "\n",
              "[508355 rows x 14 columns]"
            ],
            "text/html": [
              "\n",
              "  <div id=\"df-9a2e5356-77a1-4fee-a4dd-3719d9a8d9ac\">\n",
              "    <div class=\"colab-df-container\">\n",
              "      <div>\n",
              "<style scoped>\n",
              "    .dataframe tbody tr th:only-of-type {\n",
              "        vertical-align: middle;\n",
              "    }\n",
              "\n",
              "    .dataframe tbody tr th {\n",
              "        vertical-align: top;\n",
              "    }\n",
              "\n",
              "    .dataframe thead th {\n",
              "        text-align: right;\n",
              "    }\n",
              "</style>\n",
              "<table border=\"1\" class=\"dataframe\">\n",
              "  <thead>\n",
              "    <tr style=\"text-align: right;\">\n",
              "      <th></th>\n",
              "      <th>index</th>\n",
              "      <th>beer_ABV</th>\n",
              "      <th>beer_beerId</th>\n",
              "      <th>beer_brewerId</th>\n",
              "      <th>beer_name</th>\n",
              "      <th>beer_style</th>\n",
              "      <th>review_appearance</th>\n",
              "      <th>review_palette</th>\n",
              "      <th>review_overall</th>\n",
              "      <th>review_taste</th>\n",
              "      <th>review_profileName</th>\n",
              "      <th>review_aroma</th>\n",
              "      <th>review_text</th>\n",
              "      <th>review_time</th>\n",
              "    </tr>\n",
              "  </thead>\n",
              "  <tbody>\n",
              "    <tr>\n",
              "      <th>152866</th>\n",
              "      <td>152866</td>\n",
              "      <td>9.5</td>\n",
              "      <td>28577</td>\n",
              "      <td>3818</td>\n",
              "      <td>Unearthly (Imperial India Pale Ale)</td>\n",
              "      <td>American Double / Imperial IPA</td>\n",
              "      <td>4.5</td>\n",
              "      <td>4.0</td>\n",
              "      <td>5.0</td>\n",
              "      <td>4.5</td>\n",
              "      <td>ken2cart1</td>\n",
              "      <td>4.0</td>\n",
              "      <td>22 oz bomber served in my 8 ounce flute glass ...</td>\n",
              "      <td>1243562965</td>\n",
              "    </tr>\n",
              "    <tr>\n",
              "      <th>370806</th>\n",
              "      <td>370806</td>\n",
              "      <td>10.0</td>\n",
              "      <td>28385</td>\n",
              "      <td>22</td>\n",
              "      <td>Unibroue 15</td>\n",
              "      <td>Belgian Strong Pale Ale</td>\n",
              "      <td>4.0</td>\n",
              "      <td>4.0</td>\n",
              "      <td>5.0</td>\n",
              "      <td>4.5</td>\n",
              "      <td>Gehrig</td>\n",
              "      <td>4.5</td>\n",
              "      <td>I grabbed this at the terrific Neil St. Piccad...</td>\n",
              "      <td>1206337414</td>\n",
              "    </tr>\n",
              "    <tr>\n",
              "      <th>412412</th>\n",
              "      <td>412412</td>\n",
              "      <td>6.0</td>\n",
              "      <td>11547</td>\n",
              "      <td>73</td>\n",
              "      <td>Great Lakes Independence Ale</td>\n",
              "      <td>American Amber / Red Ale</td>\n",
              "      <td>4.0</td>\n",
              "      <td>4.0</td>\n",
              "      <td>5.0</td>\n",
              "      <td>4.0</td>\n",
              "      <td>sliverX</td>\n",
              "      <td>5.0</td>\n",
              "      <td>Poured from a growler a clear copper brew with...</td>\n",
              "      <td>1278717598</td>\n",
              "    </tr>\n",
              "    <tr>\n",
              "      <th>79616</th>\n",
              "      <td>79616</td>\n",
              "      <td>5.6</td>\n",
              "      <td>279</td>\n",
              "      <td>140</td>\n",
              "      <td>Sierra Nevada Porter</td>\n",
              "      <td>American Porter</td>\n",
              "      <td>4.5</td>\n",
              "      <td>4.5</td>\n",
              "      <td>5.0</td>\n",
              "      <td>4.5</td>\n",
              "      <td>pbrian</td>\n",
              "      <td>5.0</td>\n",
              "      <td>I love this beer. It has that signature Sierra...</td>\n",
              "      <td>1014202494</td>\n",
              "    </tr>\n",
              "    <tr>\n",
              "      <th>46458</th>\n",
              "      <td>46458</td>\n",
              "      <td>4.4</td>\n",
              "      <td>429</td>\n",
              "      <td>1</td>\n",
              "      <td>Pilsner Urquell</td>\n",
              "      <td>Czech Pilsener</td>\n",
              "      <td>4.5</td>\n",
              "      <td>4.0</td>\n",
              "      <td>5.0</td>\n",
              "      <td>4.5</td>\n",
              "      <td>schusterbauer</td>\n",
              "      <td>4.5</td>\n",
              "      <td>i seem to remember not being so impressed by t...</td>\n",
              "      <td>1174915272</td>\n",
              "    </tr>\n",
              "    <tr>\n",
              "      <th>...</th>\n",
              "      <td>...</td>\n",
              "      <td>...</td>\n",
              "      <td>...</td>\n",
              "      <td>...</td>\n",
              "      <td>...</td>\n",
              "      <td>...</td>\n",
              "      <td>...</td>\n",
              "      <td>...</td>\n",
              "      <td>...</td>\n",
              "      <td>...</td>\n",
              "      <td>...</td>\n",
              "      <td>...</td>\n",
              "      <td>...</td>\n",
              "      <td>...</td>\n",
              "    </tr>\n",
              "    <tr>\n",
              "      <th>378970</th>\n",
              "      <td>378970</td>\n",
              "      <td>5.0</td>\n",
              "      <td>8817</td>\n",
              "      <td>1435</td>\n",
              "      <td>Tuborg Premium Lager (Gold / Guld)</td>\n",
              "      <td>Euro Pale Lager</td>\n",
              "      <td>1.0</td>\n",
              "      <td>1.0</td>\n",
              "      <td>1.0</td>\n",
              "      <td>1.0</td>\n",
              "      <td>EagleTalon</td>\n",
              "      <td>1.0</td>\n",
              "      <td>Pours to wimpy yellow-gold color and thin but ...</td>\n",
              "      <td>1079755752</td>\n",
              "    </tr>\n",
              "    <tr>\n",
              "      <th>255224</th>\n",
              "      <td>255224</td>\n",
              "      <td>5.0</td>\n",
              "      <td>10331</td>\n",
              "      <td>1141</td>\n",
              "      <td>Route Des Épices (Ale Rousse Au Poivre)</td>\n",
              "      <td>Rye Beer</td>\n",
              "      <td>4.0</td>\n",
              "      <td>3.0</td>\n",
              "      <td>1.0</td>\n",
              "      <td>3.0</td>\n",
              "      <td>cratez</td>\n",
              "      <td>2.0</td>\n",
              "      <td>341ml bottle from the Richmond &amp; Fanshawe LCBO...</td>\n",
              "      <td>1283401794</td>\n",
              "    </tr>\n",
              "    <tr>\n",
              "      <th>255309</th>\n",
              "      <td>255309</td>\n",
              "      <td>5.0</td>\n",
              "      <td>10331</td>\n",
              "      <td>1141</td>\n",
              "      <td>Route Des Épices (Ale Rousse Au Poivre)</td>\n",
              "      <td>Rye Beer</td>\n",
              "      <td>3.0</td>\n",
              "      <td>2.0</td>\n",
              "      <td>1.0</td>\n",
              "      <td>3.0</td>\n",
              "      <td>KarlHungus</td>\n",
              "      <td>2.0</td>\n",
              "      <td>This beer pours a hazy amber color. The head i...</td>\n",
              "      <td>1248634334</td>\n",
              "    </tr>\n",
              "    <tr>\n",
              "      <th>255318</th>\n",
              "      <td>255318</td>\n",
              "      <td>5.0</td>\n",
              "      <td>10331</td>\n",
              "      <td>1141</td>\n",
              "      <td>Route Des Épices (Ale Rousse Au Poivre)</td>\n",
              "      <td>Rye Beer</td>\n",
              "      <td>3.5</td>\n",
              "      <td>3.5</td>\n",
              "      <td>1.0</td>\n",
              "      <td>2.5</td>\n",
              "      <td>MrRetardedMonkey</td>\n",
              "      <td>1.0</td>\n",
              "      <td>I've pretty much loved or at least enjoyed eve...</td>\n",
              "      <td>1247427466</td>\n",
              "    </tr>\n",
              "    <tr>\n",
              "      <th>346708</th>\n",
              "      <td>346708</td>\n",
              "      <td>5.5</td>\n",
              "      <td>6477</td>\n",
              "      <td>754</td>\n",
              "      <td>Mad Anthony's APA</td>\n",
              "      <td>American Pale Ale (APA)</td>\n",
              "      <td>4.0</td>\n",
              "      <td>3.0</td>\n",
              "      <td>1.0</td>\n",
              "      <td>3.5</td>\n",
              "      <td>brewdlyhooked13</td>\n",
              "      <td>1.5</td>\n",
              "      <td>Appearance - orange copper pour, a nice creamy...</td>\n",
              "      <td>1217124294</td>\n",
              "    </tr>\n",
              "  </tbody>\n",
              "</table>\n",
              "<p>508355 rows × 14 columns</p>\n",
              "</div>\n",
              "      <button class=\"colab-df-convert\" onclick=\"convertToInteractive('df-9a2e5356-77a1-4fee-a4dd-3719d9a8d9ac')\"\n",
              "              title=\"Convert this dataframe to an interactive table.\"\n",
              "              style=\"display:none;\">\n",
              "        \n",
              "  <svg xmlns=\"http://www.w3.org/2000/svg\" height=\"24px\"viewBox=\"0 0 24 24\"\n",
              "       width=\"24px\">\n",
              "    <path d=\"M0 0h24v24H0V0z\" fill=\"none\"/>\n",
              "    <path d=\"M18.56 5.44l.94 2.06.94-2.06 2.06-.94-2.06-.94-.94-2.06-.94 2.06-2.06.94zm-11 1L8.5 8.5l.94-2.06 2.06-.94-2.06-.94L8.5 2.5l-.94 2.06-2.06.94zm10 10l.94 2.06.94-2.06 2.06-.94-2.06-.94-.94-2.06-.94 2.06-2.06.94z\"/><path d=\"M17.41 7.96l-1.37-1.37c-.4-.4-.92-.59-1.43-.59-.52 0-1.04.2-1.43.59L10.3 9.45l-7.72 7.72c-.78.78-.78 2.05 0 2.83L4 21.41c.39.39.9.59 1.41.59.51 0 1.02-.2 1.41-.59l7.78-7.78 2.81-2.81c.8-.78.8-2.07 0-2.86zM5.41 20L4 18.59l7.72-7.72 1.47 1.35L5.41 20z\"/>\n",
              "  </svg>\n",
              "      </button>\n",
              "      \n",
              "  <style>\n",
              "    .colab-df-container {\n",
              "      display:flex;\n",
              "      flex-wrap:wrap;\n",
              "      gap: 12px;\n",
              "    }\n",
              "\n",
              "    .colab-df-convert {\n",
              "      background-color: #E8F0FE;\n",
              "      border: none;\n",
              "      border-radius: 50%;\n",
              "      cursor: pointer;\n",
              "      display: none;\n",
              "      fill: #1967D2;\n",
              "      height: 32px;\n",
              "      padding: 0 0 0 0;\n",
              "      width: 32px;\n",
              "    }\n",
              "\n",
              "    .colab-df-convert:hover {\n",
              "      background-color: #E2EBFA;\n",
              "      box-shadow: 0px 1px 2px rgba(60, 64, 67, 0.3), 0px 1px 3px 1px rgba(60, 64, 67, 0.15);\n",
              "      fill: #174EA6;\n",
              "    }\n",
              "\n",
              "    [theme=dark] .colab-df-convert {\n",
              "      background-color: #3B4455;\n",
              "      fill: #D2E3FC;\n",
              "    }\n",
              "\n",
              "    [theme=dark] .colab-df-convert:hover {\n",
              "      background-color: #434B5C;\n",
              "      box-shadow: 0px 1px 3px 1px rgba(0, 0, 0, 0.15);\n",
              "      filter: drop-shadow(0px 1px 2px rgba(0, 0, 0, 0.3));\n",
              "      fill: #FFFFFF;\n",
              "    }\n",
              "  </style>\n",
              "\n",
              "      <script>\n",
              "        const buttonEl =\n",
              "          document.querySelector('#df-9a2e5356-77a1-4fee-a4dd-3719d9a8d9ac button.colab-df-convert');\n",
              "        buttonEl.style.display =\n",
              "          google.colab.kernel.accessAllowed ? 'block' : 'none';\n",
              "\n",
              "        async function convertToInteractive(key) {\n",
              "          const element = document.querySelector('#df-9a2e5356-77a1-4fee-a4dd-3719d9a8d9ac');\n",
              "          const dataTable =\n",
              "            await google.colab.kernel.invokeFunction('convertToInteractive',\n",
              "                                                     [key], {});\n",
              "          if (!dataTable) return;\n",
              "\n",
              "          const docLinkHtml = 'Like what you see? Visit the ' +\n",
              "            '<a target=\"_blank\" href=https://colab.research.google.com/notebooks/data_table.ipynb>data table notebook</a>'\n",
              "            + ' to learn more about interactive tables.';\n",
              "          element.innerHTML = '';\n",
              "          dataTable['output_type'] = 'display_data';\n",
              "          await google.colab.output.renderOutput(dataTable, element);\n",
              "          const docLink = document.createElement('div');\n",
              "          docLink.innerHTML = docLinkHtml;\n",
              "          element.appendChild(docLink);\n",
              "        }\n",
              "      </script>\n",
              "    </div>\n",
              "  </div>\n",
              "  "
            ]
          },
          "metadata": {},
          "execution_count": 14
        }
      ]
    },
    {
      "cell_type": "markdown",
      "source": [
        "As we can see, there are some common beer_beerIds in the dataset, which implies that the same reviewer has reviewed the same thing twice. Let's retain the first rating in these cases (for fairness)."
      ],
      "metadata": {
        "id": "HBM7wwKiflJ2"
      }
    },
    {
      "cell_type": "code",
      "source": [
        "df = df.drop_duplicates(subset= ['review_profileName','beer_beerId'], keep='first')"
      ],
      "metadata": {
        "id": "rXbXUiEkffNt"
      },
      "execution_count": 15,
      "outputs": []
    },
    {
      "cell_type": "code",
      "source": [
        "df.shape"
      ],
      "metadata": {
        "colab": {
          "base_uri": "https://localhost:8080/"
        },
        "id": "CdWU8hkbW3eH",
        "outputId": "1c33b746-eb51-439a-e490-629a9272d577"
      },
      "execution_count": 16,
      "outputs": [
        {
          "output_type": "execute_result",
          "data": {
            "text/plain": [
              "(503697, 14)"
            ]
          },
          "metadata": {},
          "execution_count": 16
        }
      ]
    },
    {
      "cell_type": "markdown",
      "source": [
        "After cleaning the data, we have 503697 rows and 14 columns\n"
      ],
      "metadata": {
        "id": "eKINqUEJdtd-"
      }
    },
    {
      "cell_type": "markdown",
      "source": [
        "## Questions and answers\n"
      ],
      "metadata": {
        "id": "-30HCvLCdfn_"
      }
    },
    {
      "cell_type": "markdown",
      "source": [
        "#### 1. Top 3 breweries that produce the strongest beers"
      ],
      "metadata": {
        "id": "wdKgmXA4ZZfN"
      }
    },
    {
      "cell_type": "markdown",
      "source": [
        "To do this, I use the array top_breweries to store the beer_name, beer_ABV, beer_brewerId,beer_beerId columns. Then, I group this by brewer_Id and beer_Id  to find the average percentage of alcohol in most beers."
      ],
      "metadata": {
        "id": "MBGW50RRIIUJ"
      }
    },
    {
      "cell_type": "code",
      "source": [
        "top_breweries = df[['beer_name','beer_ABV','beer_brewerId' ,'beer_beerId']]\n",
        "top_breweries.head(5)"
      ],
      "metadata": {
        "colab": {
          "base_uri": "https://localhost:8080/",
          "height": 206
        },
        "id": "bYRzpYK1gCh8",
        "outputId": "71bb77c5-196b-4a2e-9e82-efa76c84c4ca"
      },
      "execution_count": 17,
      "outputs": [
        {
          "output_type": "execute_result",
          "data": {
            "text/plain": [
              "                                  beer_name  beer_ABV  beer_brewerId  \\\n",
              "152866  Unearthly (Imperial India Pale Ale)       9.5           3818   \n",
              "370806                          Unibroue 15      10.0             22   \n",
              "412412         Great Lakes Independence Ale       6.0             73   \n",
              "79616                  Sierra Nevada Porter       5.6            140   \n",
              "46458                       Pilsner Urquell       4.4              1   \n",
              "\n",
              "        beer_beerId  \n",
              "152866        28577  \n",
              "370806        28385  \n",
              "412412        11547  \n",
              "79616           279  \n",
              "46458           429  "
            ],
            "text/html": [
              "\n",
              "  <div id=\"df-b0ab7dec-c72f-44f7-afd8-77dfa86bd9f2\">\n",
              "    <div class=\"colab-df-container\">\n",
              "      <div>\n",
              "<style scoped>\n",
              "    .dataframe tbody tr th:only-of-type {\n",
              "        vertical-align: middle;\n",
              "    }\n",
              "\n",
              "    .dataframe tbody tr th {\n",
              "        vertical-align: top;\n",
              "    }\n",
              "\n",
              "    .dataframe thead th {\n",
              "        text-align: right;\n",
              "    }\n",
              "</style>\n",
              "<table border=\"1\" class=\"dataframe\">\n",
              "  <thead>\n",
              "    <tr style=\"text-align: right;\">\n",
              "      <th></th>\n",
              "      <th>beer_name</th>\n",
              "      <th>beer_ABV</th>\n",
              "      <th>beer_brewerId</th>\n",
              "      <th>beer_beerId</th>\n",
              "    </tr>\n",
              "  </thead>\n",
              "  <tbody>\n",
              "    <tr>\n",
              "      <th>152866</th>\n",
              "      <td>Unearthly (Imperial India Pale Ale)</td>\n",
              "      <td>9.5</td>\n",
              "      <td>3818</td>\n",
              "      <td>28577</td>\n",
              "    </tr>\n",
              "    <tr>\n",
              "      <th>370806</th>\n",
              "      <td>Unibroue 15</td>\n",
              "      <td>10.0</td>\n",
              "      <td>22</td>\n",
              "      <td>28385</td>\n",
              "    </tr>\n",
              "    <tr>\n",
              "      <th>412412</th>\n",
              "      <td>Great Lakes Independence Ale</td>\n",
              "      <td>6.0</td>\n",
              "      <td>73</td>\n",
              "      <td>11547</td>\n",
              "    </tr>\n",
              "    <tr>\n",
              "      <th>79616</th>\n",
              "      <td>Sierra Nevada Porter</td>\n",
              "      <td>5.6</td>\n",
              "      <td>140</td>\n",
              "      <td>279</td>\n",
              "    </tr>\n",
              "    <tr>\n",
              "      <th>46458</th>\n",
              "      <td>Pilsner Urquell</td>\n",
              "      <td>4.4</td>\n",
              "      <td>1</td>\n",
              "      <td>429</td>\n",
              "    </tr>\n",
              "  </tbody>\n",
              "</table>\n",
              "</div>\n",
              "      <button class=\"colab-df-convert\" onclick=\"convertToInteractive('df-b0ab7dec-c72f-44f7-afd8-77dfa86bd9f2')\"\n",
              "              title=\"Convert this dataframe to an interactive table.\"\n",
              "              style=\"display:none;\">\n",
              "        \n",
              "  <svg xmlns=\"http://www.w3.org/2000/svg\" height=\"24px\"viewBox=\"0 0 24 24\"\n",
              "       width=\"24px\">\n",
              "    <path d=\"M0 0h24v24H0V0z\" fill=\"none\"/>\n",
              "    <path d=\"M18.56 5.44l.94 2.06.94-2.06 2.06-.94-2.06-.94-.94-2.06-.94 2.06-2.06.94zm-11 1L8.5 8.5l.94-2.06 2.06-.94-2.06-.94L8.5 2.5l-.94 2.06-2.06.94zm10 10l.94 2.06.94-2.06 2.06-.94-2.06-.94-.94-2.06-.94 2.06-2.06.94z\"/><path d=\"M17.41 7.96l-1.37-1.37c-.4-.4-.92-.59-1.43-.59-.52 0-1.04.2-1.43.59L10.3 9.45l-7.72 7.72c-.78.78-.78 2.05 0 2.83L4 21.41c.39.39.9.59 1.41.59.51 0 1.02-.2 1.41-.59l7.78-7.78 2.81-2.81c.8-.78.8-2.07 0-2.86zM5.41 20L4 18.59l7.72-7.72 1.47 1.35L5.41 20z\"/>\n",
              "  </svg>\n",
              "      </button>\n",
              "      \n",
              "  <style>\n",
              "    .colab-df-container {\n",
              "      display:flex;\n",
              "      flex-wrap:wrap;\n",
              "      gap: 12px;\n",
              "    }\n",
              "\n",
              "    .colab-df-convert {\n",
              "      background-color: #E8F0FE;\n",
              "      border: none;\n",
              "      border-radius: 50%;\n",
              "      cursor: pointer;\n",
              "      display: none;\n",
              "      fill: #1967D2;\n",
              "      height: 32px;\n",
              "      padding: 0 0 0 0;\n",
              "      width: 32px;\n",
              "    }\n",
              "\n",
              "    .colab-df-convert:hover {\n",
              "      background-color: #E2EBFA;\n",
              "      box-shadow: 0px 1px 2px rgba(60, 64, 67, 0.3), 0px 1px 3px 1px rgba(60, 64, 67, 0.15);\n",
              "      fill: #174EA6;\n",
              "    }\n",
              "\n",
              "    [theme=dark] .colab-df-convert {\n",
              "      background-color: #3B4455;\n",
              "      fill: #D2E3FC;\n",
              "    }\n",
              "\n",
              "    [theme=dark] .colab-df-convert:hover {\n",
              "      background-color: #434B5C;\n",
              "      box-shadow: 0px 1px 3px 1px rgba(0, 0, 0, 0.15);\n",
              "      filter: drop-shadow(0px 1px 2px rgba(0, 0, 0, 0.3));\n",
              "      fill: #FFFFFF;\n",
              "    }\n",
              "  </style>\n",
              "\n",
              "      <script>\n",
              "        const buttonEl =\n",
              "          document.querySelector('#df-b0ab7dec-c72f-44f7-afd8-77dfa86bd9f2 button.colab-df-convert');\n",
              "        buttonEl.style.display =\n",
              "          google.colab.kernel.accessAllowed ? 'block' : 'none';\n",
              "\n",
              "        async function convertToInteractive(key) {\n",
              "          const element = document.querySelector('#df-b0ab7dec-c72f-44f7-afd8-77dfa86bd9f2');\n",
              "          const dataTable =\n",
              "            await google.colab.kernel.invokeFunction('convertToInteractive',\n",
              "                                                     [key], {});\n",
              "          if (!dataTable) return;\n",
              "\n",
              "          const docLinkHtml = 'Like what you see? Visit the ' +\n",
              "            '<a target=\"_blank\" href=https://colab.research.google.com/notebooks/data_table.ipynb>data table notebook</a>'\n",
              "            + ' to learn more about interactive tables.';\n",
              "          element.innerHTML = '';\n",
              "          dataTable['output_type'] = 'display_data';\n",
              "          await google.colab.output.renderOutput(dataTable, element);\n",
              "          const docLink = document.createElement('div');\n",
              "          docLink.innerHTML = docLinkHtml;\n",
              "          element.appendChild(docLink);\n",
              "        }\n",
              "      </script>\n",
              "    </div>\n",
              "  </div>\n",
              "  "
            ]
          },
          "metadata": {},
          "execution_count": 17
        }
      ]
    },
    {
      "cell_type": "code",
      "source": [
        "#Grouping by brewerId and beerId for every beer alcohol percentage\n",
        "brewer_beer = top_breweries.groupby(['beer_brewerId', 'beer_beerId']).agg({'beer_ABV': [np.size, np.mean]})\n",
        "\n",
        "#Grouping by brewerId for every brewery\n",
        "brewer = brewer_beer.groupby(level='beer_brewerId').mean()\n",
        "brewer.columns = ('Avg_num_beers', 'Brewer_beer_ABV')"
      ],
      "metadata": {
        "id": "uSg3f2ifkXGf"
      },
      "execution_count": 18,
      "outputs": []
    },
    {
      "cell_type": "code",
      "source": [
        "brewer_beer.head(10)"
      ],
      "metadata": {
        "colab": {
          "base_uri": "https://localhost:8080/",
          "height": 426
        },
        "id": "Bnj5MmdBHj6p",
        "outputId": "ddf092b7-c5cf-4ad5-d1e8-f2692cf0997e"
      },
      "execution_count": 19,
      "outputs": [
        {
          "output_type": "execute_result",
          "data": {
            "text/plain": [
              "                          beer_ABV     \n",
              "                              size mean\n",
              "beer_brewerId beer_beerId              \n",
              "1             429             1220  4.4\n",
              "              5916              46  5.0\n",
              "              14348              6  5.0\n",
              "              19099              4  4.2\n",
              "              19123              7  4.1\n",
              "              19274              2  5.0\n",
              "              41294              4  3.5\n",
              "              49865              4  4.7\n",
              "              51248              5  4.4\n",
              "              51575              8  4.1"
            ],
            "text/html": [
              "\n",
              "  <div id=\"df-ebb0191a-5a37-4443-9987-e5f0f464e950\">\n",
              "    <div class=\"colab-df-container\">\n",
              "      <div>\n",
              "<style scoped>\n",
              "    .dataframe tbody tr th:only-of-type {\n",
              "        vertical-align: middle;\n",
              "    }\n",
              "\n",
              "    .dataframe tbody tr th {\n",
              "        vertical-align: top;\n",
              "    }\n",
              "\n",
              "    .dataframe thead tr th {\n",
              "        text-align: left;\n",
              "    }\n",
              "\n",
              "    .dataframe thead tr:last-of-type th {\n",
              "        text-align: right;\n",
              "    }\n",
              "</style>\n",
              "<table border=\"1\" class=\"dataframe\">\n",
              "  <thead>\n",
              "    <tr>\n",
              "      <th></th>\n",
              "      <th></th>\n",
              "      <th colspan=\"2\" halign=\"left\">beer_ABV</th>\n",
              "    </tr>\n",
              "    <tr>\n",
              "      <th></th>\n",
              "      <th></th>\n",
              "      <th>size</th>\n",
              "      <th>mean</th>\n",
              "    </tr>\n",
              "    <tr>\n",
              "      <th>beer_brewerId</th>\n",
              "      <th>beer_beerId</th>\n",
              "      <th></th>\n",
              "      <th></th>\n",
              "    </tr>\n",
              "  </thead>\n",
              "  <tbody>\n",
              "    <tr>\n",
              "      <th rowspan=\"10\" valign=\"top\">1</th>\n",
              "      <th>429</th>\n",
              "      <td>1220</td>\n",
              "      <td>4.4</td>\n",
              "    </tr>\n",
              "    <tr>\n",
              "      <th>5916</th>\n",
              "      <td>46</td>\n",
              "      <td>5.0</td>\n",
              "    </tr>\n",
              "    <tr>\n",
              "      <th>14348</th>\n",
              "      <td>6</td>\n",
              "      <td>5.0</td>\n",
              "    </tr>\n",
              "    <tr>\n",
              "      <th>19099</th>\n",
              "      <td>4</td>\n",
              "      <td>4.2</td>\n",
              "    </tr>\n",
              "    <tr>\n",
              "      <th>19123</th>\n",
              "      <td>7</td>\n",
              "      <td>4.1</td>\n",
              "    </tr>\n",
              "    <tr>\n",
              "      <th>19274</th>\n",
              "      <td>2</td>\n",
              "      <td>5.0</td>\n",
              "    </tr>\n",
              "    <tr>\n",
              "      <th>41294</th>\n",
              "      <td>4</td>\n",
              "      <td>3.5</td>\n",
              "    </tr>\n",
              "    <tr>\n",
              "      <th>49865</th>\n",
              "      <td>4</td>\n",
              "      <td>4.7</td>\n",
              "    </tr>\n",
              "    <tr>\n",
              "      <th>51248</th>\n",
              "      <td>5</td>\n",
              "      <td>4.4</td>\n",
              "    </tr>\n",
              "    <tr>\n",
              "      <th>51575</th>\n",
              "      <td>8</td>\n",
              "      <td>4.1</td>\n",
              "    </tr>\n",
              "  </tbody>\n",
              "</table>\n",
              "</div>\n",
              "      <button class=\"colab-df-convert\" onclick=\"convertToInteractive('df-ebb0191a-5a37-4443-9987-e5f0f464e950')\"\n",
              "              title=\"Convert this dataframe to an interactive table.\"\n",
              "              style=\"display:none;\">\n",
              "        \n",
              "  <svg xmlns=\"http://www.w3.org/2000/svg\" height=\"24px\"viewBox=\"0 0 24 24\"\n",
              "       width=\"24px\">\n",
              "    <path d=\"M0 0h24v24H0V0z\" fill=\"none\"/>\n",
              "    <path d=\"M18.56 5.44l.94 2.06.94-2.06 2.06-.94-2.06-.94-.94-2.06-.94 2.06-2.06.94zm-11 1L8.5 8.5l.94-2.06 2.06-.94-2.06-.94L8.5 2.5l-.94 2.06-2.06.94zm10 10l.94 2.06.94-2.06 2.06-.94-2.06-.94-.94-2.06-.94 2.06-2.06.94z\"/><path d=\"M17.41 7.96l-1.37-1.37c-.4-.4-.92-.59-1.43-.59-.52 0-1.04.2-1.43.59L10.3 9.45l-7.72 7.72c-.78.78-.78 2.05 0 2.83L4 21.41c.39.39.9.59 1.41.59.51 0 1.02-.2 1.41-.59l7.78-7.78 2.81-2.81c.8-.78.8-2.07 0-2.86zM5.41 20L4 18.59l7.72-7.72 1.47 1.35L5.41 20z\"/>\n",
              "  </svg>\n",
              "      </button>\n",
              "      \n",
              "  <style>\n",
              "    .colab-df-container {\n",
              "      display:flex;\n",
              "      flex-wrap:wrap;\n",
              "      gap: 12px;\n",
              "    }\n",
              "\n",
              "    .colab-df-convert {\n",
              "      background-color: #E8F0FE;\n",
              "      border: none;\n",
              "      border-radius: 50%;\n",
              "      cursor: pointer;\n",
              "      display: none;\n",
              "      fill: #1967D2;\n",
              "      height: 32px;\n",
              "      padding: 0 0 0 0;\n",
              "      width: 32px;\n",
              "    }\n",
              "\n",
              "    .colab-df-convert:hover {\n",
              "      background-color: #E2EBFA;\n",
              "      box-shadow: 0px 1px 2px rgba(60, 64, 67, 0.3), 0px 1px 3px 1px rgba(60, 64, 67, 0.15);\n",
              "      fill: #174EA6;\n",
              "    }\n",
              "\n",
              "    [theme=dark] .colab-df-convert {\n",
              "      background-color: #3B4455;\n",
              "      fill: #D2E3FC;\n",
              "    }\n",
              "\n",
              "    [theme=dark] .colab-df-convert:hover {\n",
              "      background-color: #434B5C;\n",
              "      box-shadow: 0px 1px 3px 1px rgba(0, 0, 0, 0.15);\n",
              "      filter: drop-shadow(0px 1px 2px rgba(0, 0, 0, 0.3));\n",
              "      fill: #FFFFFF;\n",
              "    }\n",
              "  </style>\n",
              "\n",
              "      <script>\n",
              "        const buttonEl =\n",
              "          document.querySelector('#df-ebb0191a-5a37-4443-9987-e5f0f464e950 button.colab-df-convert');\n",
              "        buttonEl.style.display =\n",
              "          google.colab.kernel.accessAllowed ? 'block' : 'none';\n",
              "\n",
              "        async function convertToInteractive(key) {\n",
              "          const element = document.querySelector('#df-ebb0191a-5a37-4443-9987-e5f0f464e950');\n",
              "          const dataTable =\n",
              "            await google.colab.kernel.invokeFunction('convertToInteractive',\n",
              "                                                     [key], {});\n",
              "          if (!dataTable) return;\n",
              "\n",
              "          const docLinkHtml = 'Like what you see? Visit the ' +\n",
              "            '<a target=\"_blank\" href=https://colab.research.google.com/notebooks/data_table.ipynb>data table notebook</a>'\n",
              "            + ' to learn more about interactive tables.';\n",
              "          element.innerHTML = '';\n",
              "          dataTable['output_type'] = 'display_data';\n",
              "          await google.colab.output.renderOutput(dataTable, element);\n",
              "          const docLink = document.createElement('div');\n",
              "          docLink.innerHTML = docLinkHtml;\n",
              "          element.appendChild(docLink);\n",
              "        }\n",
              "      </script>\n",
              "    </div>\n",
              "  </div>\n",
              "  "
            ]
          },
          "metadata": {},
          "execution_count": 19
        }
      ]
    },
    {
      "cell_type": "markdown",
      "source": [
        "We see that brewerId 1 makes 1220 cans of beerId 429. It is the brewer's most popular beer.\n"
      ],
      "metadata": {
        "id": "rwKz_ZnpL42Y"
      }
    },
    {
      "cell_type": "code",
      "source": [
        "brewer.head(10)"
      ],
      "metadata": {
        "colab": {
          "base_uri": "https://localhost:8080/",
          "height": 394
        },
        "id": "lIoz014ZJPRF",
        "outputId": "6702bffa-dafd-4cf7-dd1a-257cf4135fe2"
      },
      "execution_count": 20,
      "outputs": [
        {
          "output_type": "execute_result",
          "data": {
            "text/plain": [
              "               Avg_num_beers  Brewer_beer_ABV\n",
              "beer_brewerId                                \n",
              "1                 101.538462         4.876923\n",
              "3                 123.425000         6.237500\n",
              "5                  69.000000         4.837500\n",
              "10                 14.000000         4.625000\n",
              "14                  8.983871         6.588710\n",
              "22                322.139535         7.309302\n",
              "31                 94.250000         4.800000\n",
              "35                397.175258         7.641443\n",
              "36                 31.400000         7.520000\n",
              "37                968.500000         5.200000"
            ],
            "text/html": [
              "\n",
              "  <div id=\"df-695eeabb-68e8-42da-9906-01536f9a82d0\">\n",
              "    <div class=\"colab-df-container\">\n",
              "      <div>\n",
              "<style scoped>\n",
              "    .dataframe tbody tr th:only-of-type {\n",
              "        vertical-align: middle;\n",
              "    }\n",
              "\n",
              "    .dataframe tbody tr th {\n",
              "        vertical-align: top;\n",
              "    }\n",
              "\n",
              "    .dataframe thead th {\n",
              "        text-align: right;\n",
              "    }\n",
              "</style>\n",
              "<table border=\"1\" class=\"dataframe\">\n",
              "  <thead>\n",
              "    <tr style=\"text-align: right;\">\n",
              "      <th></th>\n",
              "      <th>Avg_num_beers</th>\n",
              "      <th>Brewer_beer_ABV</th>\n",
              "    </tr>\n",
              "    <tr>\n",
              "      <th>beer_brewerId</th>\n",
              "      <th></th>\n",
              "      <th></th>\n",
              "    </tr>\n",
              "  </thead>\n",
              "  <tbody>\n",
              "    <tr>\n",
              "      <th>1</th>\n",
              "      <td>101.538462</td>\n",
              "      <td>4.876923</td>\n",
              "    </tr>\n",
              "    <tr>\n",
              "      <th>3</th>\n",
              "      <td>123.425000</td>\n",
              "      <td>6.237500</td>\n",
              "    </tr>\n",
              "    <tr>\n",
              "      <th>5</th>\n",
              "      <td>69.000000</td>\n",
              "      <td>4.837500</td>\n",
              "    </tr>\n",
              "    <tr>\n",
              "      <th>10</th>\n",
              "      <td>14.000000</td>\n",
              "      <td>4.625000</td>\n",
              "    </tr>\n",
              "    <tr>\n",
              "      <th>14</th>\n",
              "      <td>8.983871</td>\n",
              "      <td>6.588710</td>\n",
              "    </tr>\n",
              "    <tr>\n",
              "      <th>22</th>\n",
              "      <td>322.139535</td>\n",
              "      <td>7.309302</td>\n",
              "    </tr>\n",
              "    <tr>\n",
              "      <th>31</th>\n",
              "      <td>94.250000</td>\n",
              "      <td>4.800000</td>\n",
              "    </tr>\n",
              "    <tr>\n",
              "      <th>35</th>\n",
              "      <td>397.175258</td>\n",
              "      <td>7.641443</td>\n",
              "    </tr>\n",
              "    <tr>\n",
              "      <th>36</th>\n",
              "      <td>31.400000</td>\n",
              "      <td>7.520000</td>\n",
              "    </tr>\n",
              "    <tr>\n",
              "      <th>37</th>\n",
              "      <td>968.500000</td>\n",
              "      <td>5.200000</td>\n",
              "    </tr>\n",
              "  </tbody>\n",
              "</table>\n",
              "</div>\n",
              "      <button class=\"colab-df-convert\" onclick=\"convertToInteractive('df-695eeabb-68e8-42da-9906-01536f9a82d0')\"\n",
              "              title=\"Convert this dataframe to an interactive table.\"\n",
              "              style=\"display:none;\">\n",
              "        \n",
              "  <svg xmlns=\"http://www.w3.org/2000/svg\" height=\"24px\"viewBox=\"0 0 24 24\"\n",
              "       width=\"24px\">\n",
              "    <path d=\"M0 0h24v24H0V0z\" fill=\"none\"/>\n",
              "    <path d=\"M18.56 5.44l.94 2.06.94-2.06 2.06-.94-2.06-.94-.94-2.06-.94 2.06-2.06.94zm-11 1L8.5 8.5l.94-2.06 2.06-.94-2.06-.94L8.5 2.5l-.94 2.06-2.06.94zm10 10l.94 2.06.94-2.06 2.06-.94-2.06-.94-.94-2.06-.94 2.06-2.06.94z\"/><path d=\"M17.41 7.96l-1.37-1.37c-.4-.4-.92-.59-1.43-.59-.52 0-1.04.2-1.43.59L10.3 9.45l-7.72 7.72c-.78.78-.78 2.05 0 2.83L4 21.41c.39.39.9.59 1.41.59.51 0 1.02-.2 1.41-.59l7.78-7.78 2.81-2.81c.8-.78.8-2.07 0-2.86zM5.41 20L4 18.59l7.72-7.72 1.47 1.35L5.41 20z\"/>\n",
              "  </svg>\n",
              "      </button>\n",
              "      \n",
              "  <style>\n",
              "    .colab-df-container {\n",
              "      display:flex;\n",
              "      flex-wrap:wrap;\n",
              "      gap: 12px;\n",
              "    }\n",
              "\n",
              "    .colab-df-convert {\n",
              "      background-color: #E8F0FE;\n",
              "      border: none;\n",
              "      border-radius: 50%;\n",
              "      cursor: pointer;\n",
              "      display: none;\n",
              "      fill: #1967D2;\n",
              "      height: 32px;\n",
              "      padding: 0 0 0 0;\n",
              "      width: 32px;\n",
              "    }\n",
              "\n",
              "    .colab-df-convert:hover {\n",
              "      background-color: #E2EBFA;\n",
              "      box-shadow: 0px 1px 2px rgba(60, 64, 67, 0.3), 0px 1px 3px 1px rgba(60, 64, 67, 0.15);\n",
              "      fill: #174EA6;\n",
              "    }\n",
              "\n",
              "    [theme=dark] .colab-df-convert {\n",
              "      background-color: #3B4455;\n",
              "      fill: #D2E3FC;\n",
              "    }\n",
              "\n",
              "    [theme=dark] .colab-df-convert:hover {\n",
              "      background-color: #434B5C;\n",
              "      box-shadow: 0px 1px 3px 1px rgba(0, 0, 0, 0.15);\n",
              "      filter: drop-shadow(0px 1px 2px rgba(0, 0, 0, 0.3));\n",
              "      fill: #FFFFFF;\n",
              "    }\n",
              "  </style>\n",
              "\n",
              "      <script>\n",
              "        const buttonEl =\n",
              "          document.querySelector('#df-695eeabb-68e8-42da-9906-01536f9a82d0 button.colab-df-convert');\n",
              "        buttonEl.style.display =\n",
              "          google.colab.kernel.accessAllowed ? 'block' : 'none';\n",
              "\n",
              "        async function convertToInteractive(key) {\n",
              "          const element = document.querySelector('#df-695eeabb-68e8-42da-9906-01536f9a82d0');\n",
              "          const dataTable =\n",
              "            await google.colab.kernel.invokeFunction('convertToInteractive',\n",
              "                                                     [key], {});\n",
              "          if (!dataTable) return;\n",
              "\n",
              "          const docLinkHtml = 'Like what you see? Visit the ' +\n",
              "            '<a target=\"_blank\" href=https://colab.research.google.com/notebooks/data_table.ipynb>data table notebook</a>'\n",
              "            + ' to learn more about interactive tables.';\n",
              "          element.innerHTML = '';\n",
              "          dataTable['output_type'] = 'display_data';\n",
              "          await google.colab.output.renderOutput(dataTable, element);\n",
              "          const docLink = document.createElement('div');\n",
              "          docLink.innerHTML = docLinkHtml;\n",
              "          element.appendChild(docLink);\n",
              "        }\n",
              "      </script>\n",
              "    </div>\n",
              "  </div>\n",
              "  "
            ]
          },
          "metadata": {},
          "execution_count": 20
        }
      ]
    },
    {
      "cell_type": "code",
      "source": [
        "# Ordering breweries by the avg_num_beers in descending order, to find the 3 breweries that make the beers with the highest ABV\n",
        "best_beer = brewer.drop('Avg_num_beers', 1).sort_values('Brewer_beer_ABV', ascending=False).reset_index()"
      ],
      "metadata": {
        "colab": {
          "base_uri": "https://localhost:8080/"
        },
        "id": "fKccjK4tklTj",
        "outputId": "d6cc6dbd-ca83-48cf-e4cf-dd66c09504ba"
      },
      "execution_count": 21,
      "outputs": [
        {
          "output_type": "stream",
          "name": "stderr",
          "text": [
            "/usr/local/lib/python3.7/dist-packages/ipykernel_launcher.py:2: FutureWarning: In a future version of pandas all arguments of DataFrame.drop except for the argument 'labels' will be keyword-only\n",
            "  \n"
          ]
        }
      ]
    },
    {
      "cell_type": "code",
      "source": [
        "best_beer.plot(kind='scatter',x='beer_brewerId',y='Brewer_beer_ABV',color='blue')\n",
        "plt.show()"
      ],
      "metadata": {
        "colab": {
          "base_uri": "https://localhost:8080/",
          "height": 280
        },
        "id": "7AZkfBfGVatI",
        "outputId": "41420b14-6b7e-48b3-8478-0688da51c7c9"
      },
      "execution_count": 22,
      "outputs": [
        {
          "output_type": "display_data",
          "data": {
            "text/plain": [
              "<Figure size 432x288 with 1 Axes>"
            ],
            "image/png": "[encoded data removed]"
          },
          "metadata": {
            "needs_background": "light"
          }
        }
      ]
    },
    {
      "cell_type": "markdown",
      "source": [
        "We see that most of the breweries create beers containing between 4% and 8% alcohol. One brewery in particular makes a beer with 25% alcohol content and a few breweries make beers with less than 4% alcohol content."
      ],
      "metadata": {
        "id": "wxGXizouWN2p"
      }
    },
    {
      "cell_type": "markdown",
      "source": [
        "#### 2. Which year did beers enjoy the highest ratings?"
      ],
      "metadata": {
        "id": "JeT2VkKTgwtM"
      }
    },
    {
      "cell_type": "markdown",
      "source": [
        "Now, we take the beer_name,beerId, review and review_time to find the beers with the highest ratings over the years. I extract the year from the review_time column. Group the beers rates by years and then arrange the dataset in descending order to find the year with the best rated beers."
      ],
      "metadata": {
        "id": "1cKKMRhoUf6k"
      }
    },
    {
      "cell_type": "code",
      "source": [
        "beer_ratings = df[['beer_name','beer_beerId','review_overall','review_time']]"
      ],
      "metadata": {
        "id": "H9vLjOWog2Fu"
      },
      "execution_count": 23,
      "outputs": []
    },
    {
      "cell_type": "code",
      "source": [
        "#splitting year from review_time\n",
        "beer_ratings['review_year'] = beer_ratings.apply(lambda row: datetime.utcfromtimestamp(row.review_time).strftime(\"%Y\"), axis=1)"
      ],
      "metadata": {
        "colab": {
          "base_uri": "https://localhost:8080/"
        },
        "id": "yNsmUyR1bI2F",
        "outputId": "0617afd4-81e8-48b5-bb87-89dcb0cdf45f"
      },
      "execution_count": 24,
      "outputs": [
        {
          "output_type": "stream",
          "name": "stderr",
          "text": [
            "/usr/local/lib/python3.7/dist-packages/ipykernel_launcher.py:2: SettingWithCopyWarning: \n",
            "A value is trying to be set on a copy of a slice from a DataFrame.\n",
            "Try using .loc[row_indexer,col_indexer] = value instead\n",
            "\n",
            "See the caveats in the documentation: https://pandas.pydata.org/pandas-docs/stable/user_guide/indexing.html#returning-a-view-versus-a-copy\n",
            "  \n"
          ]
        }
      ]
    },
    {
      "cell_type": "code",
      "source": [
        "beer_ratings['review_year']"
      ],
      "metadata": {
        "colab": {
          "base_uri": "https://localhost:8080/"
        },
        "id": "_yU4GFLnX26g",
        "outputId": "2e209f71-2d29-4895-960b-5892e42b8ecb"
      },
      "execution_count": 25,
      "outputs": [
        {
          "output_type": "execute_result",
          "data": {
            "text/plain": [
              "152866    2009\n",
              "370806    2008\n",
              "412412    2010\n",
              "79616     2002\n",
              "46458     2007\n",
              "          ... \n",
              "378970    2004\n",
              "255224    2010\n",
              "255309    2009\n",
              "255318    2009\n",
              "346708    2008\n",
              "Name: review_year, Length: 503697, dtype: object"
            ]
          },
          "metadata": {},
          "execution_count": 25
        }
      ]
    },
    {
      "cell_type": "code",
      "source": [
        "beer_ratings= beer_ratings.reset_index(drop=True)\n",
        "beer_ratings.head()"
      ],
      "metadata": {
        "id": "K9UvMlBVh3Bu",
        "colab": {
          "base_uri": "https://localhost:8080/",
          "height": 206
        },
        "outputId": "11ed2a0a-20bd-445b-b9fa-7fa4dc19ed60"
      },
      "execution_count": 26,
      "outputs": [
        {
          "output_type": "execute_result",
          "data": {
            "text/plain": [
              "                             beer_name  beer_beerId  review_overall  \\\n",
              "0  Unearthly (Imperial India Pale Ale)        28577             5.0   \n",
              "1                          Unibroue 15        28385             5.0   \n",
              "2         Great Lakes Independence Ale        11547             5.0   \n",
              "3                 Sierra Nevada Porter          279             5.0   \n",
              "4                      Pilsner Urquell          429             5.0   \n",
              "\n",
              "   review_time review_year  \n",
              "0   1243562965        2009  \n",
              "1   1206337414        2008  \n",
              "2   1278717598        2010  \n",
              "3   1014202494        2002  \n",
              "4   1174915272        2007  "
            ],
            "text/html": [
              "\n",
              "  <div id=\"df-406e913d-77d7-4f9b-90a0-5f87115fa0a4\">\n",
              "    <div class=\"colab-df-container\">\n",
              "      <div>\n",
              "<style scoped>\n",
              "    .dataframe tbody tr th:only-of-type {\n",
              "        vertical-align: middle;\n",
              "    }\n",
              "\n",
              "    .dataframe tbody tr th {\n",
              "        vertical-align: top;\n",
              "    }\n",
              "\n",
              "    .dataframe thead th {\n",
              "        text-align: right;\n",
              "    }\n",
              "</style>\n",
              "<table border=\"1\" class=\"dataframe\">\n",
              "  <thead>\n",
              "    <tr style=\"text-align: right;\">\n",
              "      <th></th>\n",
              "      <th>beer_name</th>\n",
              "      <th>beer_beerId</th>\n",
              "      <th>review_overall</th>\n",
              "      <th>review_time</th>\n",
              "      <th>review_year</th>\n",
              "    </tr>\n",
              "  </thead>\n",
              "  <tbody>\n",
              "    <tr>\n",
              "      <th>0</th>\n",
              "      <td>Unearthly (Imperial India Pale Ale)</td>\n",
              "      <td>28577</td>\n",
              "      <td>5.0</td>\n",
              "      <td>1243562965</td>\n",
              "      <td>2009</td>\n",
              "    </tr>\n",
              "    <tr>\n",
              "      <th>1</th>\n",
              "      <td>Unibroue 15</td>\n",
              "      <td>28385</td>\n",
              "      <td>5.0</td>\n",
              "      <td>1206337414</td>\n",
              "      <td>2008</td>\n",
              "    </tr>\n",
              "    <tr>\n",
              "      <th>2</th>\n",
              "      <td>Great Lakes Independence Ale</td>\n",
              "      <td>11547</td>\n",
              "      <td>5.0</td>\n",
              "      <td>1278717598</td>\n",
              "      <td>2010</td>\n",
              "    </tr>\n",
              "    <tr>\n",
              "      <th>3</th>\n",
              "      <td>Sierra Nevada Porter</td>\n",
              "      <td>279</td>\n",
              "      <td>5.0</td>\n",
              "      <td>1014202494</td>\n",
              "      <td>2002</td>\n",
              "    </tr>\n",
              "    <tr>\n",
              "      <th>4</th>\n",
              "      <td>Pilsner Urquell</td>\n",
              "      <td>429</td>\n",
              "      <td>5.0</td>\n",
              "      <td>1174915272</td>\n",
              "      <td>2007</td>\n",
              "    </tr>\n",
              "  </tbody>\n",
              "</table>\n",
              "</div>\n",
              "      <button class=\"colab-df-convert\" onclick=\"convertToInteractive('df-406e913d-77d7-4f9b-90a0-5f87115fa0a4')\"\n",
              "              title=\"Convert this dataframe to an interactive table.\"\n",
              "              style=\"display:none;\">\n",
              "        \n",
              "  <svg xmlns=\"http://www.w3.org/2000/svg\" height=\"24px\"viewBox=\"0 0 24 24\"\n",
              "       width=\"24px\">\n",
              "    <path d=\"M0 0h24v24H0V0z\" fill=\"none\"/>\n",
              "    <path d=\"M18.56 5.44l.94 2.06.94-2.06 2.06-.94-2.06-.94-.94-2.06-.94 2.06-2.06.94zm-11 1L8.5 8.5l.94-2.06 2.06-.94-2.06-.94L8.5 2.5l-.94 2.06-2.06.94zm10 10l.94 2.06.94-2.06 2.06-.94-2.06-.94-.94-2.06-.94 2.06-2.06.94z\"/><path d=\"M17.41 7.96l-1.37-1.37c-.4-.4-.92-.59-1.43-.59-.52 0-1.04.2-1.43.59L10.3 9.45l-7.72 7.72c-.78.78-.78 2.05 0 2.83L4 21.41c.39.39.9.59 1.41.59.51 0 1.02-.2 1.41-.59l7.78-7.78 2.81-2.81c.8-.78.8-2.07 0-2.86zM5.41 20L4 18.59l7.72-7.72 1.47 1.35L5.41 20z\"/>\n",
              "  </svg>\n",
              "      </button>\n",
              "      \n",
              "  <style>\n",
              "    .colab-df-container {\n",
              "      display:flex;\n",
              "      flex-wrap:wrap;\n",
              "      gap: 12px;\n",
              "    }\n",
              "\n",
              "    .colab-df-convert {\n",
              "      background-color: #E8F0FE;\n",
              "      border: none;\n",
              "      border-radius: 50%;\n",
              "      cursor: pointer;\n",
              "      display: none;\n",
              "      fill: #1967D2;\n",
              "      height: 32px;\n",
              "      padding: 0 0 0 0;\n",
              "      width: 32px;\n",
              "    }\n",
              "\n",
              "    .colab-df-convert:hover {\n",
              "      background-color: #E2EBFA;\n",
              "      box-shadow: 0px 1px 2px rgba(60, 64, 67, 0.3), 0px 1px 3px 1px rgba(60, 64, 67, 0.15);\n",
              "      fill: #174EA6;\n",
              "    }\n",
              "\n",
              "    [theme=dark] .colab-df-convert {\n",
              "      background-color: #3B4455;\n",
              "      fill: #D2E3FC;\n",
              "    }\n",
              "\n",
              "    [theme=dark] .colab-df-convert:hover {\n",
              "      background-color: #434B5C;\n",
              "      box-shadow: 0px 1px 3px 1px rgba(0, 0, 0, 0.15);\n",
              "      filter: drop-shadow(0px 1px 2px rgba(0, 0, 0, 0.3));\n",
              "      fill: #FFFFFF;\n",
              "    }\n",
              "  </style>\n",
              "\n",
              "      <script>\n",
              "        const buttonEl =\n",
              "          document.querySelector('#df-406e913d-77d7-4f9b-90a0-5f87115fa0a4 button.colab-df-convert');\n",
              "        buttonEl.style.display =\n",
              "          google.colab.kernel.accessAllowed ? 'block' : 'none';\n",
              "\n",
              "        async function convertToInteractive(key) {\n",
              "          const element = document.querySelector('#df-406e913d-77d7-4f9b-90a0-5f87115fa0a4');\n",
              "          const dataTable =\n",
              "            await google.colab.kernel.invokeFunction('convertToInteractive',\n",
              "                                                     [key], {});\n",
              "          if (!dataTable) return;\n",
              "\n",
              "          const docLinkHtml = 'Like what you see? Visit the ' +\n",
              "            '<a target=\"_blank\" href=https://colab.research.google.com/notebooks/data_table.ipynb>data table notebook</a>'\n",
              "            + ' to learn more about interactive tables.';\n",
              "          element.innerHTML = '';\n",
              "          dataTable['output_type'] = 'display_data';\n",
              "          await google.colab.output.renderOutput(dataTable, element);\n",
              "          const docLink = document.createElement('div');\n",
              "          docLink.innerHTML = docLinkHtml;\n",
              "          element.appendChild(docLink);\n",
              "        }\n",
              "      </script>\n",
              "    </div>\n",
              "  </div>\n",
              "  "
            ]
          },
          "metadata": {},
          "execution_count": 26
        }
      ]
    },
    {
      "cell_type": "code",
      "source": [
        "#Grouping beer ratings by the year of review and all the reviews for this by the year\n",
        "mean_beer_rating =beer_ratings.groupby(['review_year'], as_index=False)['review_overall'].agg('mean')"
      ],
      "metadata": {
        "id": "ct6E7ZPmh_pS"
      },
      "execution_count": 27,
      "outputs": []
    },
    {
      "cell_type": "code",
      "source": [
        "#arranging beer by mean rating and overall reviews to find the best rated beers\n",
        "mean_beer_rating = mean_beer_rating.sort_values(by=['review_overall'], ascending=False)"
      ],
      "metadata": {
        "id": "0jXhxitCiMbc"
      },
      "execution_count": 28,
      "outputs": []
    },
    {
      "cell_type": "code",
      "source": [
        "mean_beer_rating.plot(kind='scatter',x='review_overall',y='review_year',color='blue')"
      ],
      "metadata": {
        "colab": {
          "base_uri": "https://localhost:8080/",
          "height": 298
        },
        "id": "wyFXQjuMZ6t-",
        "outputId": "fc396f4a-97c5-4d90-ccb6-47d6eb5a1aed"
      },
      "execution_count": 29,
      "outputs": [
        {
          "output_type": "execute_result",
          "data": {
            "text/plain": [
              "<matplotlib.axes._subplots.AxesSubplot at 0x7faea05e1410>"
            ]
          },
          "metadata": {},
          "execution_count": 29
        },
        {
          "output_type": "display_data",
          "data": {
            "text/plain": [
              "<Figure size 432x288 with 1 Axes>"
            ],
            "image/png": "[encoded data removed]"
          },
          "metadata": {
            "needs_background": "light"
          }
        }
      ]
    },
    {
      "cell_type": "markdown",
      "source": [
        "The highest rated beers were between 1999 and 2001. 2000 has the highest rated beers. Between 2002 and 2012, none of the beers have rated below 3.5 and above 4.0"
      ],
      "metadata": {
        "id": "T6OTMuzWcGAt"
      }
    },
    {
      "cell_type": "markdown",
      "source": [
        "#### 3. Based on the user’s ratings which factors are important among taste, aroma, appearance, and palette?"
      ],
      "metadata": {
        "id": "V_U0rXx_iuEd"
      }
    },
    {
      "cell_type": "markdown",
      "source": [
        "I take the beerId, appearance, taste, pallette, aroma and overall rating to find which of these parameters are the most important to the user. I will use a correlation plot to find how important the correlation between each parameter is."
      ],
      "metadata": {
        "id": "46w3HhXpit1b"
      }
    },
    {
      "cell_type": "code",
      "source": [
        "factors = df[[ 'review_taste','review_appearance', 'review_aroma', 'review_palette','review_overall','beer_beerId']]"
      ],
      "metadata": {
        "id": "iX7v9zWMiwQk"
      },
      "execution_count": 30,
      "outputs": []
    },
    {
      "cell_type": "code",
      "source": [
        "#define the dataset for the correlation plot\n",
        "corrfactors = factors.groupby('beer_beerId').agg({'beer_beerId':'count', 'review_palette':'mean','review_appearance':'mean','review_taste':'mean','review_aroma':'mean','review_overall':'mean'})"
      ],
      "metadata": {
        "id": "3OCkskU8i5_S"
      },
      "execution_count": 31,
      "outputs": []
    },
    {
      "cell_type": "code",
      "source": [
        "#columns for correlation plot\n",
        "corrfactors.columns = ('Beer_Ids','Pallette_score','Appearance_score','Taste_score','Aroma_score','Overall_score')"
      ],
      "metadata": {
        "id": "3aasADiheu_b"
      },
      "execution_count": 32,
      "outputs": []
    },
    {
      "cell_type": "code",
      "source": [
        "corrfactors.head()"
      ],
      "metadata": {
        "colab": {
          "base_uri": "https://localhost:8080/",
          "height": 237
        },
        "id": "fXTwSdMafC6k",
        "outputId": "fbb93edf-1f7a-4495-81c1-aad53d9f2a38"
      },
      "execution_count": 33,
      "outputs": [
        {
          "output_type": "execute_result",
          "data": {
            "text/plain": [
              "             Beer_Ids  Pallette_score  Appearance_score  Taste_score  \\\n",
              "beer_beerId                                                            \n",
              "5                 420        3.208333          3.488095     3.323810   \n",
              "6                 871        3.516073          3.838691     3.514925   \n",
              "7                 655        3.178626          3.251145     3.110687   \n",
              "8                  68        3.080882          3.294118     3.301471   \n",
              "9                 116        2.853448          3.051724     3.103448   \n",
              "\n",
              "             Aroma_score  Overall_score  \n",
              "beer_beerId                              \n",
              "5               3.342857       3.554762  \n",
              "6               3.645235       3.709529  \n",
              "7               3.103817       3.271756  \n",
              "8               3.235294       3.647059  \n",
              "9               3.043103       3.400862  "
            ],
            "text/html": [
              "\n",
              "  <div id=\"df-c958f3d5-030d-4527-9dbf-e04117b21884\">\n",
              "    <div class=\"colab-df-container\">\n",
              "      <div>\n",
              "<style scoped>\n",
              "    .dataframe tbody tr th:only-of-type {\n",
              "        vertical-align: middle;\n",
              "    }\n",
              "\n",
              "    .dataframe tbody tr th {\n",
              "        vertical-align: top;\n",
              "    }\n",
              "\n",
              "    .dataframe thead th {\n",
              "        text-align: right;\n",
              "    }\n",
              "</style>\n",
              "<table border=\"1\" class=\"dataframe\">\n",
              "  <thead>\n",
              "    <tr style=\"text-align: right;\">\n",
              "      <th></th>\n",
              "      <th>Beer_Ids</th>\n",
              "      <th>Pallette_score</th>\n",
              "      <th>Appearance_score</th>\n",
              "      <th>Taste_score</th>\n",
              "      <th>Aroma_score</th>\n",
              "      <th>Overall_score</th>\n",
              "    </tr>\n",
              "    <tr>\n",
              "      <th>beer_beerId</th>\n",
              "      <th></th>\n",
              "      <th></th>\n",
              "      <th></th>\n",
              "      <th></th>\n",
              "      <th></th>\n",
              "      <th></th>\n",
              "    </tr>\n",
              "  </thead>\n",
              "  <tbody>\n",
              "    <tr>\n",
              "      <th>5</th>\n",
              "      <td>420</td>\n",
              "      <td>3.208333</td>\n",
              "      <td>3.488095</td>\n",
              "      <td>3.323810</td>\n",
              "      <td>3.342857</td>\n",
              "      <td>3.554762</td>\n",
              "    </tr>\n",
              "    <tr>\n",
              "      <th>6</th>\n",
              "      <td>871</td>\n",
              "      <td>3.516073</td>\n",
              "      <td>3.838691</td>\n",
              "      <td>3.514925</td>\n",
              "      <td>3.645235</td>\n",
              "      <td>3.709529</td>\n",
              "    </tr>\n",
              "    <tr>\n",
              "      <th>7</th>\n",
              "      <td>655</td>\n",
              "      <td>3.178626</td>\n",
              "      <td>3.251145</td>\n",
              "      <td>3.110687</td>\n",
              "      <td>3.103817</td>\n",
              "      <td>3.271756</td>\n",
              "    </tr>\n",
              "    <tr>\n",
              "      <th>8</th>\n",
              "      <td>68</td>\n",
              "      <td>3.080882</td>\n",
              "      <td>3.294118</td>\n",
              "      <td>3.301471</td>\n",
              "      <td>3.235294</td>\n",
              "      <td>3.647059</td>\n",
              "    </tr>\n",
              "    <tr>\n",
              "      <th>9</th>\n",
              "      <td>116</td>\n",
              "      <td>2.853448</td>\n",
              "      <td>3.051724</td>\n",
              "      <td>3.103448</td>\n",
              "      <td>3.043103</td>\n",
              "      <td>3.400862</td>\n",
              "    </tr>\n",
              "  </tbody>\n",
              "</table>\n",
              "</div>\n",
              "      <button class=\"colab-df-convert\" onclick=\"convertToInteractive('df-c958f3d5-030d-4527-9dbf-e04117b21884')\"\n",
              "              title=\"Convert this dataframe to an interactive table.\"\n",
              "              style=\"display:none;\">\n",
              "        \n",
              "  <svg xmlns=\"http://www.w3.org/2000/svg\" height=\"24px\"viewBox=\"0 0 24 24\"\n",
              "       width=\"24px\">\n",
              "    <path d=\"M0 0h24v24H0V0z\" fill=\"none\"/>\n",
              "    <path d=\"M18.56 5.44l.94 2.06.94-2.06 2.06-.94-2.06-.94-.94-2.06-.94 2.06-2.06.94zm-11 1L8.5 8.5l.94-2.06 2.06-.94-2.06-.94L8.5 2.5l-.94 2.06-2.06.94zm10 10l.94 2.06.94-2.06 2.06-.94-2.06-.94-.94-2.06-.94 2.06-2.06.94z\"/><path d=\"M17.41 7.96l-1.37-1.37c-.4-.4-.92-.59-1.43-.59-.52 0-1.04.2-1.43.59L10.3 9.45l-7.72 7.72c-.78.78-.78 2.05 0 2.83L4 21.41c.39.39.9.59 1.41.59.51 0 1.02-.2 1.41-.59l7.78-7.78 2.81-2.81c.8-.78.8-2.07 0-2.86zM5.41 20L4 18.59l7.72-7.72 1.47 1.35L5.41 20z\"/>\n",
              "  </svg>\n",
              "      </button>\n",
              "      \n",
              "  <style>\n",
              "    .colab-df-container {\n",
              "      display:flex;\n",
              "      flex-wrap:wrap;\n",
              "      gap: 12px;\n",
              "    }\n",
              "\n",
              "    .colab-df-convert {\n",
              "      background-color: #E8F0FE;\n",
              "      border: none;\n",
              "      border-radius: 50%;\n",
              "      cursor: pointer;\n",
              "      display: none;\n",
              "      fill: #1967D2;\n",
              "      height: 32px;\n",
              "      padding: 0 0 0 0;\n",
              "      width: 32px;\n",
              "    }\n",
              "\n",
              "    .colab-df-convert:hover {\n",
              "      background-color: #E2EBFA;\n",
              "      box-shadow: 0px 1px 2px rgba(60, 64, 67, 0.3), 0px 1px 3px 1px rgba(60, 64, 67, 0.15);\n",
              "      fill: #174EA6;\n",
              "    }\n",
              "\n",
              "    [theme=dark] .colab-df-convert {\n",
              "      background-color: #3B4455;\n",
              "      fill: #D2E3FC;\n",
              "    }\n",
              "\n",
              "    [theme=dark] .colab-df-convert:hover {\n",
              "      background-color: #434B5C;\n",
              "      box-shadow: 0px 1px 3px 1px rgba(0, 0, 0, 0.15);\n",
              "      filter: drop-shadow(0px 1px 2px rgba(0, 0, 0, 0.3));\n",
              "      fill: #FFFFFF;\n",
              "    }\n",
              "  </style>\n",
              "\n",
              "      <script>\n",
              "        const buttonEl =\n",
              "          document.querySelector('#df-c958f3d5-030d-4527-9dbf-e04117b21884 button.colab-df-convert');\n",
              "        buttonEl.style.display =\n",
              "          google.colab.kernel.accessAllowed ? 'block' : 'none';\n",
              "\n",
              "        async function convertToInteractive(key) {\n",
              "          const element = document.querySelector('#df-c958f3d5-030d-4527-9dbf-e04117b21884');\n",
              "          const dataTable =\n",
              "            await google.colab.kernel.invokeFunction('convertToInteractive',\n",
              "                                                     [key], {});\n",
              "          if (!dataTable) return;\n",
              "\n",
              "          const docLinkHtml = 'Like what you see? Visit the ' +\n",
              "            '<a target=\"_blank\" href=https://colab.research.google.com/notebooks/data_table.ipynb>data table notebook</a>'\n",
              "            + ' to learn more about interactive tables.';\n",
              "          element.innerHTML = '';\n",
              "          dataTable['output_type'] = 'display_data';\n",
              "          await google.colab.output.renderOutput(dataTable, element);\n",
              "          const docLink = document.createElement('div');\n",
              "          docLink.innerHTML = docLinkHtml;\n",
              "          element.appendChild(docLink);\n",
              "        }\n",
              "      </script>\n",
              "    </div>\n",
              "  </div>\n",
              "  "
            ]
          },
          "metadata": {},
          "execution_count": 33
        }
      ]
    },
    {
      "cell_type": "code",
      "source": [
        "corr = corrfactors.corr()"
      ],
      "metadata": {
        "id": "ZQyJDHZdjoxg"
      },
      "execution_count": 34,
      "outputs": []
    },
    {
      "cell_type": "code",
      "source": [
        "# Heatmap\n",
        "sns.heatmap(corr, annot=True, linewidths=.3)\n",
        "\n",
        "plt.title(\"Correlation plot\")\n",
        "plt.show()"
      ],
      "metadata": {
        "colab": {
          "base_uri": "https://localhost:8080/",
          "height": 363
        },
        "id": "LhRvGqaCj5Z7",
        "outputId": "fc660f1e-0129-419c-fa9f-4ba25f9ac83e"
      },
      "execution_count": 35,
      "outputs": [
        {
          "output_type": "display_data",
          "data": {
            "text/plain": [
              "<Figure size 432x288 with 2 Axes>"
            ],
            "image/png": "[encoded data removed]"
          },
          "metadata": {
            "needs_background": "light"
          }
        }
      ]
    },
    {
      "cell_type": "markdown",
      "source": [
        "Pallette and aroma are highly dependent on each other, as are taste and aroma. Aroma also greately affects the overall score. The main factors that influence the users' choices of beers are aroma and taste. Appearance only has a medium impact on the choice of beer."
      ],
      "metadata": {
        "id": "LrZKOjEcgQoC"
      }
    },
    {
      "cell_type": "markdown",
      "source": [
        "####4. If you were to recommend 3 beers to your friends based on this data which ones will you recommend?"
      ],
      "metadata": {
        "id": "Hgqt0kzsji8x"
      }
    },
    {
      "cell_type": "markdown",
      "source": [
        "To find the best beer to recommend, I use the beer name, style, ABV, brewerId and overall ratings."
      ],
      "metadata": {
        "id": "1V2OosQ1kX_N"
      }
    },
    {
      "cell_type": "code",
      "source": [
        "review = df[['beer_name','beer_ABV','beer_style', 'beer_brewerId','beer_beerId', 'review_overall']]"
      ],
      "metadata": {
        "id": "IGbJRS9fjmnX"
      },
      "execution_count": 36,
      "outputs": []
    },
    {
      "cell_type": "code",
      "source": [
        "# Number of reviews grouped by beerIds\n",
        "review['review_count'] = review.groupby(['beer_beerId'])['review_overall'].transform('count')"
      ],
      "metadata": {
        "colab": {
          "base_uri": "https://localhost:8080/"
        },
        "id": "JwESqoJ6jrkh",
        "outputId": "6ee12478-700a-4b12-a14a-ec7b669fc173"
      },
      "execution_count": 37,
      "outputs": [
        {
          "output_type": "stream",
          "name": "stderr",
          "text": [
            "/usr/local/lib/python3.7/dist-packages/ipykernel_launcher.py:2: SettingWithCopyWarning: \n",
            "A value is trying to be set on a copy of a slice from a DataFrame.\n",
            "Try using .loc[row_indexer,col_indexer] = value instead\n",
            "\n",
            "See the caveats in the documentation: https://pandas.pydata.org/pandas-docs/stable/user_guide/indexing.html#returning-a-view-versus-a-copy\n",
            "  \n"
          ]
        }
      ]
    },
    {
      "cell_type": "code",
      "source": [
        "#Average number of reviews\n",
        "review.review_count.mean()"
      ],
      "metadata": {
        "colab": {
          "base_uri": "https://localhost:8080/"
        },
        "id": "m3Apqex7juNx",
        "outputId": "9759de1b-be22-47ad-a3d1-bee18f60e469"
      },
      "execution_count": 38,
      "outputs": [
        {
          "output_type": "execute_result",
          "data": {
            "text/plain": [
              "624.2821477991729"
            ]
          },
          "metadata": {},
          "execution_count": 38
        }
      ]
    },
    {
      "cell_type": "code",
      "source": [
        "#Mean rating per beerId\n",
        "review['review_overall_mean'] = review.groupby(['beer_beerId'])['review_overall'].transform('mean')"
      ],
      "metadata": {
        "colab": {
          "base_uri": "https://localhost:8080/"
        },
        "id": "M4tpAfmkjyq7",
        "outputId": "d5725758-c865-4fe0-b059-ac00c29a2a9b"
      },
      "execution_count": 41,
      "outputs": [
        {
          "output_type": "stream",
          "name": "stderr",
          "text": [
            "/usr/local/lib/python3.7/dist-packages/ipykernel_launcher.py:2: SettingWithCopyWarning: \n",
            "A value is trying to be set on a copy of a slice from a DataFrame.\n",
            "Try using .loc[row_indexer,col_indexer] = value instead\n",
            "\n",
            "See the caveats in the documentation: https://pandas.pydata.org/pandas-docs/stable/user_guide/indexing.html#returning-a-view-versus-a-copy\n",
            "  \n"
          ]
        }
      ]
    },
    {
      "cell_type": "code",
      "source": [
        "review = review.groupby('beer_beerId').head(1).sort_values('review_overall_mean', ascending=False )"
      ],
      "metadata": {
        "id": "itY1NeV9j3ik"
      },
      "execution_count": 45,
      "outputs": []
    },
    {
      "cell_type": "code",
      "source": [
        "# Top 3 beers\n",
        "review.head(3)"
      ],
      "metadata": {
        "colab": {
          "base_uri": "https://localhost:8080/",
          "height": 143
        },
        "id": "o2WUukVSnjVp",
        "outputId": "0e37ad6d-b22d-40b5-cd3d-d783b9f22dbf"
      },
      "execution_count": 46,
      "outputs": [
        {
          "output_type": "execute_result",
          "data": {
            "text/plain": [
              "                  beer_name  beer_ABV                      beer_style  \\\n",
              "469607  Mango Double Simcoe       9.0  American Double / Imperial IPA   \n",
              "6011            Oktoberfest       6.0            Märzen / Oktoberfest   \n",
              "169866        Frostbite Ice       6.8                    American IPA   \n",
              "\n",
              "        beer_brewerId  beer_beerId  review_overall  review_count  \\\n",
              "469607            392        68991             5.0             1   \n",
              "6011             2310        20584             5.0             1   \n",
              "169866            610         4911             5.0             1   \n",
              "\n",
              "        review_overall_mean  \n",
              "469607                  5.0  \n",
              "6011                    5.0  \n",
              "169866                  5.0  "
            ],
            "text/html": [
              "\n",
              "  <div id=\"df-e9937189-5d76-494d-a3ed-b67d2d56e3fc\">\n",
              "    <div class=\"colab-df-container\">\n",
              "      <div>\n",
              "<style scoped>\n",
              "    .dataframe tbody tr th:only-of-type {\n",
              "        vertical-align: middle;\n",
              "    }\n",
              "\n",
              "    .dataframe tbody tr th {\n",
              "        vertical-align: top;\n",
              "    }\n",
              "\n",
              "    .dataframe thead th {\n",
              "        text-align: right;\n",
              "    }\n",
              "</style>\n",
              "<table border=\"1\" class=\"dataframe\">\n",
              "  <thead>\n",
              "    <tr style=\"text-align: right;\">\n",
              "      <th></th>\n",
              "      <th>beer_name</th>\n",
              "      <th>beer_ABV</th>\n",
              "      <th>beer_style</th>\n",
              "      <th>beer_brewerId</th>\n",
              "      <th>beer_beerId</th>\n",
              "      <th>review_overall</th>\n",
              "      <th>review_count</th>\n",
              "      <th>review_overall_mean</th>\n",
              "    </tr>\n",
              "  </thead>\n",
              "  <tbody>\n",
              "    <tr>\n",
              "      <th>469607</th>\n",
              "      <td>Mango Double Simcoe</td>\n",
              "      <td>9.0</td>\n",
              "      <td>American Double / Imperial IPA</td>\n",
              "      <td>392</td>\n",
              "      <td>68991</td>\n",
              "      <td>5.0</td>\n",
              "      <td>1</td>\n",
              "      <td>5.0</td>\n",
              "    </tr>\n",
              "    <tr>\n",
              "      <th>6011</th>\n",
              "      <td>Oktoberfest</td>\n",
              "      <td>6.0</td>\n",
              "      <td>Märzen / Oktoberfest</td>\n",
              "      <td>2310</td>\n",
              "      <td>20584</td>\n",
              "      <td>5.0</td>\n",
              "      <td>1</td>\n",
              "      <td>5.0</td>\n",
              "    </tr>\n",
              "    <tr>\n",
              "      <th>169866</th>\n",
              "      <td>Frostbite Ice</td>\n",
              "      <td>6.8</td>\n",
              "      <td>American IPA</td>\n",
              "      <td>610</td>\n",
              "      <td>4911</td>\n",
              "      <td>5.0</td>\n",
              "      <td>1</td>\n",
              "      <td>5.0</td>\n",
              "    </tr>\n",
              "  </tbody>\n",
              "</table>\n",
              "</div>\n",
              "      <button class=\"colab-df-convert\" onclick=\"convertToInteractive('df-e9937189-5d76-494d-a3ed-b67d2d56e3fc')\"\n",
              "              title=\"Convert this dataframe to an interactive table.\"\n",
              "              style=\"display:none;\">\n",
              "        \n",
              "  <svg xmlns=\"http://www.w3.org/2000/svg\" height=\"24px\"viewBox=\"0 0 24 24\"\n",
              "       width=\"24px\">\n",
              "    <path d=\"M0 0h24v24H0V0z\" fill=\"none\"/>\n",
              "    <path d=\"M18.56 5.44l.94 2.06.94-2.06 2.06-.94-2.06-.94-.94-2.06-.94 2.06-2.06.94zm-11 1L8.5 8.5l.94-2.06 2.06-.94-2.06-.94L8.5 2.5l-.94 2.06-2.06.94zm10 10l.94 2.06.94-2.06 2.06-.94-2.06-.94-.94-2.06-.94 2.06-2.06.94z\"/><path d=\"M17.41 7.96l-1.37-1.37c-.4-.4-.92-.59-1.43-.59-.52 0-1.04.2-1.43.59L10.3 9.45l-7.72 7.72c-.78.78-.78 2.05 0 2.83L4 21.41c.39.39.9.59 1.41.59.51 0 1.02-.2 1.41-.59l7.78-7.78 2.81-2.81c.8-.78.8-2.07 0-2.86zM5.41 20L4 18.59l7.72-7.72 1.47 1.35L5.41 20z\"/>\n",
              "  </svg>\n",
              "      </button>\n",
              "      \n",
              "  <style>\n",
              "    .colab-df-container {\n",
              "      display:flex;\n",
              "      flex-wrap:wrap;\n",
              "      gap: 12px;\n",
              "    }\n",
              "\n",
              "    .colab-df-convert {\n",
              "      background-color: #E8F0FE;\n",
              "      border: none;\n",
              "      border-radius: 50%;\n",
              "      cursor: pointer;\n",
              "      display: none;\n",
              "      fill: #1967D2;\n",
              "      height: 32px;\n",
              "      padding: 0 0 0 0;\n",
              "      width: 32px;\n",
              "    }\n",
              "\n",
              "    .colab-df-convert:hover {\n",
              "      background-color: #E2EBFA;\n",
              "      box-shadow: 0px 1px 2px rgba(60, 64, 67, 0.3), 0px 1px 3px 1px rgba(60, 64, 67, 0.15);\n",
              "      fill: #174EA6;\n",
              "    }\n",
              "\n",
              "    [theme=dark] .colab-df-convert {\n",
              "      background-color: #3B4455;\n",
              "      fill: #D2E3FC;\n",
              "    }\n",
              "\n",
              "    [theme=dark] .colab-df-convert:hover {\n",
              "      background-color: #434B5C;\n",
              "      box-shadow: 0px 1px 3px 1px rgba(0, 0, 0, 0.15);\n",
              "      filter: drop-shadow(0px 1px 2px rgba(0, 0, 0, 0.3));\n",
              "      fill: #FFFFFF;\n",
              "    }\n",
              "  </style>\n",
              "\n",
              "      <script>\n",
              "        const buttonEl =\n",
              "          document.querySelector('#df-e9937189-5d76-494d-a3ed-b67d2d56e3fc button.colab-df-convert');\n",
              "        buttonEl.style.display =\n",
              "          google.colab.kernel.accessAllowed ? 'block' : 'none';\n",
              "\n",
              "        async function convertToInteractive(key) {\n",
              "          const element = document.querySelector('#df-e9937189-5d76-494d-a3ed-b67d2d56e3fc');\n",
              "          const dataTable =\n",
              "            await google.colab.kernel.invokeFunction('convertToInteractive',\n",
              "                                                     [key], {});\n",
              "          if (!dataTable) return;\n",
              "\n",
              "          const docLinkHtml = 'Like what you see? Visit the ' +\n",
              "            '<a target=\"_blank\" href=https://colab.research.google.com/notebooks/data_table.ipynb>data table notebook</a>'\n",
              "            + ' to learn more about interactive tables.';\n",
              "          element.innerHTML = '';\n",
              "          dataTable['output_type'] = 'display_data';\n",
              "          await google.colab.output.renderOutput(dataTable, element);\n",
              "          const docLink = document.createElement('div');\n",
              "          docLink.innerHTML = docLinkHtml;\n",
              "          element.appendChild(docLink);\n",
              "        }\n",
              "      </script>\n",
              "    </div>\n",
              "  </div>\n",
              "  "
            ]
          },
          "metadata": {},
          "execution_count": 46
        }
      ]
    },
    {
      "cell_type": "markdown",
      "source": [
        "The best beers to recommend by ABV and style are Mango Double Simcoe, Oktoberfest and Frostbite Ice"
      ],
      "metadata": {
        "id": "DxJzKz6Wnsb0"
      }
    }
  ]
}